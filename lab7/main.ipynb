{
 "cells": [
  {
   "cell_type": "code",
   "execution_count": 111,
   "metadata": {},
   "outputs": [],
   "source": [
    "import matplotlib.pyplot as plt\n",
    "from scipy.linalg import expm\n",
    "import scipy.integrate as integrate\n",
    "from sympy import Matrix\n",
    "import numpy as np\n",
    "import control \n",
    "import sympy\n",
    "import os"
   ]
  },
  {
   "cell_type": "code",
   "execution_count": 112,
   "metadata": {},
   "outputs": [],
   "source": [
    "A = [\n",
    "    [13, -11, 14],\n",
    "    [10, -7, 10],\n",
    "    [-10, 6, -11]\n",
    "]\n",
    "\n",
    "B = [[-5, -3, 5]]\n",
    "x1 = [[-3, -1, 1]]"
   ]
  },
  {
   "cell_type": "code",
   "execution_count": 113,
   "metadata": {},
   "outputs": [],
   "source": [
    "A = np.array(A)\n",
    "B = np.array(B).reshape(-1, 1)\n",
    "x1 = np.array(x1).reshape(-1, 1)"
   ]
  },
  {
   "cell_type": "code",
   "execution_count": 114,
   "metadata": {},
   "outputs": [],
   "source": [
    "def get_jordan_cells(A):\n",
    "    assert len(A.shape) == 2\n",
    "    assert A.shape[0] == A.shape[1]\n",
    "    \n",
    "    n = A.shape[0]\n",
    "    jordan_cells_poses = []\n",
    "    jordan_cells = []\n",
    "    current_jordan_cell_size = 1\n",
    "    current_jordan_cell_pos = 0\n",
    "\n",
    "    while current_jordan_cell_pos + current_jordan_cell_size < n:\n",
    "        \n",
    "        jordan_cell_down_element_pos = current_jordan_cell_pos + current_jordan_cell_size - 1\n",
    "        if A[jordan_cell_down_element_pos, jordan_cell_down_element_pos + 1] == 1 or A[jordan_cell_down_element_pos + 1, jordan_cell_down_element_pos] == 1:\n",
    "            current_jordan_cell_size += 1\n",
    "        else:\n",
    "            jordan_cells_poses.append((current_jordan_cell_pos, current_jordan_cell_size))\n",
    "            current_jordan_cell_pos += current_jordan_cell_size\n",
    "            current_jordan_cell_size = 1\n",
    "\n",
    "    jordan_cells_poses.append((current_jordan_cell_pos, current_jordan_cell_size))\n",
    "    \n",
    "    for pos in jordan_cells_poses:\n",
    "        jordan_cells.append(A[pos[0]:pos[0]+pos[1], pos[0]:pos[0]+pos[1]])\n",
    "\n",
    "    return jordan_cells_poses, jordan_cells"
   ]
  },
  {
   "cell_type": "code",
   "execution_count": 115,
   "metadata": {},
   "outputs": [
    {
     "data": {
      "text/plain": [
       "([(0, 4)],\n",
       " [array([[2, 1, 0, 0],\n",
       "         [0, 2, 1, 0],\n",
       "         [0, 0, 2, 1],\n",
       "         [0, 0, 0, 2]])])"
      ]
     },
     "execution_count": 115,
     "metadata": {},
     "output_type": "execute_result"
    }
   ],
   "source": [
    "J = np.array([\n",
    "    [2, 1, 0, 0],\n",
    "    [0, 2, 1, 0],\n",
    "    [0, 0, 2, 1],\n",
    "    [0, 0, 0, 2]\n",
    "])\n",
    "get_jordan_cells(J)"
   ]
  },
  {
   "cell_type": "code",
   "execution_count": 116,
   "metadata": {},
   "outputs": [],
   "source": [
    "def get_control_matrix(A, B):\n",
    "    assert len(A.shape) == 2\n",
    "    assert A.shape[0] == A.shape[1]\n",
    "    assert A.shape[0] == B.shape[0]\n",
    "\n",
    "    n = A.shape[0]\n",
    "    U = np.zeros((n, 0))\n",
    "    for i in range(n):\n",
    "        new_column = (np.linalg.matrix_power(A, i) @ B).reshape((-1, 1))\n",
    "        U = np.concatenate((U, new_column), axis=1)\n",
    "\n",
    "    return U\n",
    "    "
   ]
  },
  {
   "cell_type": "code",
   "execution_count": 117,
   "metadata": {},
   "outputs": [],
   "source": [
    "def check_eigenvalues_controllable(A, B, method = 'rank_criteria') -> np.array:\n",
    "    assert len(A.shape) == 2\n",
    "    assert A.shape[0] == A.shape[1]\n",
    "    assert A.shape[0] == B.shape[0]\n",
    "    \n",
    "    n = A.shape[0]\n",
    "    is_controllable = []\n",
    "\n",
    "    if method == 'rank_criteria':\n",
    "        eigen_values, _ = np.linalg.eig(A)\n",
    "        for eigen_value in eigen_values:\n",
    "            M = np.concatenate((A - eigen_value * np.eye(n), B.reshape(-1, 1)), axis=1)\n",
    "            is_controllable.append(np.linalg.matrix_rank(M) == n)\n",
    "    elif method == 'jordan_form':\n",
    "        P, J = Matrix(A).jordan_form()\n",
    "        jordan_cells_poses, _ = get_jordan_cells(J)\n",
    "        B_jordan_form = np.array(P.inv() @ B).T.flatten()\n",
    "\n",
    "        for jordan_cells_pose in jordan_cells_poses:\n",
    "            down_stroke_id = jordan_cells_pose[0] + jordan_cells_pose[1] - 1\n",
    "            is_controllable.append(True if B_jordan_form[down_stroke_id] != 0 else False) \n",
    "    else:\n",
    "        raise NotImplementedError\n",
    "\n",
    "    return np.array(is_controllable)"
   ]
  },
  {
   "cell_type": "code",
   "execution_count": 118,
   "metadata": {},
   "outputs": [],
   "source": [
    "def check_system_controllable(A, B, method = 'rank_criteria'):\n",
    "    assert len(A.shape) == 2\n",
    "    assert A.shape[0] == A.shape[1]\n",
    "    assert A.shape[0] == B.shape[0]\n",
    "    \n",
    "    is_controllable = None\n",
    "    n = A.shape[0]\n",
    "    if method == 'rank_criteria':\n",
    "        U = get_control_matrix(A, B)\n",
    "        is_controllable = np.linalg.matrix_rank(U) == n\n",
    "    elif method == 'eigen_values_criteria':\n",
    "        is_controllable = True\n",
    "        _, J = Matrix(A).jordan_form()\n",
    "        _, jordan_cells = get_jordan_cells(J)\n",
    "       \n",
    "        for i in range(len(jordan_cells)):\n",
    "            for j in range(len(jordan_cells)):\n",
    "                if i != j and np.array_equal(jordan_cells[i], jordan_cells[j]):\n",
    "                    is_controllable = False\n",
    "        \n",
    "        is_controllable = is_controllable and np.all(check_eigenvalues_controllable(A, B))\n",
    "    else:\n",
    "        raise NotImplementedError\n",
    "    \n",
    "    return is_controllable"
   ]
  },
  {
   "cell_type": "code",
   "execution_count": 119,
   "metadata": {},
   "outputs": [],
   "source": [
    "def check_is_state_controllable(A, B, x):\n",
    "    U = get_control_matrix(A, B)\n",
    "    return np.linalg.matrix_rank(U) == np.linalg.matrix_rank(np.concatenate((U, x.reshape(-1, 1)), axis=1))\n",
    "    "
   ]
  },
  {
   "cell_type": "code",
   "execution_count": 120,
   "metadata": {},
   "outputs": [],
   "source": [
    "def get_controllability_gramian(A, B, t1):\n",
    "    controllability_gramian = integrate.quad_vec(lambda x: expm(A*x) @ B @ B.T @ expm(A.T*x), 0, t1)[0] \n",
    "\n",
    "    return controllability_gramian"
   ]
  },
  {
   "cell_type": "code",
   "execution_count": 121,
   "metadata": {},
   "outputs": [],
   "source": [
    "def get_control(A, B, t1, x1, P = None):\n",
    "    if P is None:\n",
    "        P = get_controllability_gramian(A, B, t1)\n",
    "    \n",
    "    u = lambda t: (B.T @ expm(A.T*(t1 - t)) @ np.linalg.pinv(P) @  x1)[0][0]\n",
    "\n",
    "    t = np.linspace(0, t1, 100)\n",
    "\n",
    "    U = []\n",
    "    for step in t:\n",
    "        U.append(u(step))\n",
    "\n",
    "    return U, t"
   ]
  },
  {
   "cell_type": "markdown",
   "metadata": {},
   "source": [
    "Tests:"
   ]
  },
  {
   "cell_type": "code",
   "execution_count": 122,
   "metadata": {},
   "outputs": [],
   "source": [
    "assert np.array_equal(get_control_matrix(A, B).shape, np.array((A.shape[0], A.shape[0]*B.shape[1])))\n",
    "assert np.array_equal(check_eigenvalues_controllable(A, B, method = 'rank_criteria'), check_eigenvalues_controllable(A, B, method = 'jordan_form'))\n",
    "assert check_system_controllable(A, B, method = 'rank_criteria') == check_system_controllable(A, B, method = 'eigen_values_criteria')\n",
    "assert check_is_state_controllable(A, B, np.zeros(A.shape[0])) == True\n",
    "A_test = np.array([\n",
    "    [0, 0, 1, 1],\n",
    "    [0, 0, 0, 1],\n",
    "    [0, 0, 0, 0],\n",
    "    [0, 0, 0, 0],\n",
    "])\n",
    "B_test = np.array([\n",
    "    [0, 0],\n",
    "    [0, 0],\n",
    "    [1, 0],\n",
    "    [0, 1],\n",
    "])\n",
    "P_test = np.array([\n",
    "    [2./3., 1./3., 1./2., 1./2.],\n",
    "    [1./3., 1./3., 0, 1./2.],\n",
    "    [1./2., 0., 1., 0.],\n",
    "    [1./2., 1./2., 0., 1.],\n",
    "])\n",
    "x1_test = np.array([[1, 1, 0, 0]]).reshape(-1, 1)\n",
    "assert np.linalg.norm(get_controllability_gramian(A_test, B_test, t1=1) - P_test) < 0.001"
   ]
  },
  {
   "cell_type": "code",
   "execution_count": 123,
   "metadata": {},
   "outputs": [],
   "source": [
    "def plot_result(A, B, U, t):\n",
    "    ss = control.ss(A, B, A * 0, B * 0)\n",
    "    output = control.forced_response(ss, X0=[0,0,0], U=U, T=t).states\n",
    "\n",
    "    fig, axs = plt.subplots(2, 2, figsize=(8, 8))\n",
    "    plt.subplots_adjust(left=0.1, bottom=0.1, right=0.9, top=0.9, wspace=0.4,hspace=0.4)\n",
    "    for i in range(3):\n",
    "        axs[i//2, i % 2].plot(t, output[i], linewidth=4)\n",
    "        axs[i//2, i % 2].scatter(t[-1], x1[i], color='r', linewidth=4, label='goal')\n",
    "        axs[i//2, i % 2].set_title(f'x_{i} = x_{i}(t)', fontsize=12)\n",
    "        axs[i//2, i % 2].set_xlabel(f\"t, [c]\", fontsize=12)\n",
    "        axs[i//2, i % 2].grid(True)\n",
    "        axs[i//2, i % 2].legend()\n",
    "        \n",
    "        \n",
    "    axs[1, 1].plot(t, np.array(U).reshape(-1), linewidth=4)\n",
    "    axs[1, 1].set_title(f'u = u(t)', fontsize=12)\n",
    "    axs[1, 1].set_xlabel(f\"t, [c]\", fontsize=12)\n",
    "    axs[1, 1].grid(True)\n",
    "    # plt.savefig(f'{file_name}.jpg') "
   ]
  },
  {
   "cell_type": "markdown",
   "metadata": {},
   "source": [
    "Lab:"
   ]
  },
  {
   "cell_type": "code",
   "execution_count": 124,
   "metadata": {},
   "outputs": [
    {
     "data": {
      "text/plain": [
       "array([[ -5.,  38., -59.],\n",
       "       [ -3.,  21.,   3.],\n",
       "       [  5., -23.,  -1.]])"
      ]
     },
     "execution_count": 124,
     "metadata": {},
     "output_type": "execute_result"
    }
   ],
   "source": [
    "get_control_matrix(A, B)"
   ]
  },
  {
   "cell_type": "code",
   "execution_count": 125,
   "metadata": {},
   "outputs": [
    {
     "data": {
      "text/plain": [
       "True"
      ]
     },
     "execution_count": 125,
     "metadata": {},
     "output_type": "execute_result"
    }
   ],
   "source": [
    "check_system_controllable(A, B)"
   ]
  },
  {
   "cell_type": "code",
   "execution_count": 126,
   "metadata": {},
   "outputs": [
    {
     "data": {
      "text/plain": [
       "array([ True,  True,  True])"
      ]
     },
     "execution_count": 126,
     "metadata": {},
     "output_type": "execute_result"
    }
   ],
   "source": [
    "check_eigenvalues_controllable(A, B)"
   ]
  },
  {
   "cell_type": "code",
   "execution_count": 127,
   "metadata": {},
   "outputs": [
    {
     "data": {
      "text/plain": [
       "array([ True,  True,  True])"
      ]
     },
     "execution_count": 127,
     "metadata": {},
     "output_type": "execute_result"
    }
   ],
   "source": [
    "check_eigenvalues_controllable(A, B, method = 'jordan_form')"
   ]
  },
  {
   "cell_type": "code",
   "execution_count": 128,
   "metadata": {},
   "outputs": [
    {
     "data": {
      "text/plain": [
       "True"
      ]
     },
     "execution_count": 128,
     "metadata": {},
     "output_type": "execute_result"
    }
   ],
   "source": [
    "check_is_state_controllable(A, B, x1)"
   ]
  },
  {
   "cell_type": "code",
   "execution_count": 129,
   "metadata": {},
   "outputs": [
    {
     "data": {
      "text/plain": [
       "array([[ 2.65554766,  0.82212141, -2.02110313],\n",
       "       [ 0.82212141,  0.2545176 , -0.62570602],\n",
       "       [-2.02110313, -0.62570602,  1.53823558]])"
      ]
     },
     "execution_count": 129,
     "metadata": {},
     "output_type": "execute_result"
    }
   ],
   "source": [
    "expm(A*1) @ B @ B.reshape(1, -1) @ expm(A.T*1)"
   ]
  },
  {
   "cell_type": "code",
   "execution_count": 130,
   "metadata": {},
   "outputs": [],
   "source": [
    "P = get_controllability_gramian(A, B, t1=3)"
   ]
  },
  {
   "cell_type": "code",
   "execution_count": 131,
   "metadata": {},
   "outputs": [
    {
     "data": {
      "text/plain": [
       "(array([[ 3.13226347,  1.70315356, -2.4629419 ],\n",
       "        [ 1.70315356,  1.47412296, -1.12126199],\n",
       "        [-2.4629419 , -1.12126199,  2.76344352]]),\n",
       " array([6.26534005, 0.23256956, 0.87192033]))"
      ]
     },
     "execution_count": 131,
     "metadata": {},
     "output_type": "execute_result"
    }
   ],
   "source": [
    "P, np.linalg.eig(P)[0]"
   ]
  },
  {
   "cell_type": "code",
   "execution_count": 132,
   "metadata": {},
   "outputs": [
    {
     "data": {
      "image/png": "[encoded data removed]",
      "text/plain": [
       "<Figure size 800x800 with 4 Axes>"
      ]
     },
     "metadata": {},
     "output_type": "display_data"
    }
   ],
   "source": [
    "U, t = get_control(A, B, 3, x1)\n",
    "plot_result(A, B, U, t)"
   ]
  },
  {
   "cell_type": "markdown",
   "metadata": {},
   "source": [
    "# Задание №2"
   ]
  },
  {
   "cell_type": "code",
   "execution_count": 133,
   "metadata": {},
   "outputs": [],
   "source": [
    "A = [\n",
    "    [13, -11, 14],\n",
    "    [10, -7, 10],\n",
    "    [-10, 6, -11]\n",
    "]\n",
    "\n",
    "B = [[1, -1, 1]]\n",
    "x1 = [[-3, -1, 1]]\n",
    "x2 = [[-6, -1, 4]]\n",
    "\n",
    "A = np.array(A)\n",
    "B = np.array(B).reshape(-1, 1)\n",
    "x1 = np.array(x1).reshape(-1, 1)\n",
    "x2 = np.array(x2).reshape(-1, 1)"
   ]
  },
  {
   "cell_type": "code",
   "execution_count": 134,
   "metadata": {},
   "outputs": [
    {
     "data": {
      "text/plain": [
       "True"
      ]
     },
     "execution_count": 134,
     "metadata": {},
     "output_type": "execute_result"
    }
   ],
   "source": [
    "check_is_state_controllable(A, B, x1)"
   ]
  },
  {
   "cell_type": "code",
   "execution_count": 135,
   "metadata": {},
   "outputs": [
    {
     "data": {
      "text/plain": [
       "False"
      ]
     },
     "execution_count": 135,
     "metadata": {},
     "output_type": "execute_result"
    }
   ],
   "source": [
    "check_is_state_controllable(A, B, x2)"
   ]
  },
  {
   "cell_type": "markdown",
   "metadata": {},
   "source": [
    "# Задание №3"
   ]
  },
  {
   "cell_type": "code",
   "execution_count": 136,
   "metadata": {},
   "outputs": [],
   "source": [
    "A = np.array([\n",
    "    [-13, 2, -12],\n",
    "    [-6, -1, -8],\n",
    "    [8, -4, 5]\n",
    "])\n",
    "C = np.array([[9, -2, 9]])"
   ]
  },
  {
   "cell_type": "code",
   "execution_count": 137,
   "metadata": {},
   "outputs": [],
   "source": [
    "def get_observation_matrix(A, C):\n",
    "    assert len(A.shape) == 2\n",
    "    assert A.shape[0] == A.shape[1]\n",
    "    assert A.shape[0] == C.shape[1]\n",
    "\n",
    "    n = A.shape[0]\n",
    "    U = np.zeros((0, n))\n",
    "    for i in range(n):\n",
    "        new_column = (C @ np.linalg.matrix_power(A, i))\n",
    "        U = np.concatenate((U, new_column))\n",
    "\n",
    "    return U\n",
    "    "
   ]
  },
  {
   "cell_type": "code",
   "execution_count": 151,
   "metadata": {},
   "outputs": [],
   "source": [
    "def check_eigenvalues_observable(A, C, method = 'rank_criteria') -> np.array:\n",
    "    assert len(A.shape) == 2\n",
    "    assert A.shape[0] == A.shape[1]\n",
    "    assert A.shape[0] == C.shape[1]\n",
    "    \n",
    "    n = A.shape[0]\n",
    "    is_observable = None\n",
    "\n",
    "    if method == 'rank_criteria':\n",
    "        is_observable = []\n",
    "        eigen_values, _ = np.linalg.eig(A)\n",
    "        for eigen_value in eigen_values:\n",
    "            M = np.concatenate((A - eigen_value * np.eye(n), C))\n",
    "            is_observable.append(np.linalg.matrix_rank(M) == n)\n",
    "    elif method == 'jordan_form':\n",
    "        is_observable = []\n",
    "        P, J = Matrix(A).jordan_form()\n",
    "        jordan_cells_poses, _ = get_jordan_cells(J)\n",
    "        C_jordan_form = C @ P\n",
    "        for jordan_cells_pose in jordan_cells_poses:\n",
    "            is_observable.append(True if C_jordan_form[jordan_cells_pose[0]] != 0 else False) \n",
    "    else:\n",
    "        raise NotImplementedError\n",
    "\n",
    "    return np.array(is_observable)"
   ]
  },
  {
   "cell_type": "code",
   "execution_count": 159,
   "metadata": {},
   "outputs": [],
   "source": [
    "def check_system_observable(A, B, method = 'rank_criteria'):\n",
    "    assert len(A.shape) == 2\n",
    "    assert A.shape[0] == A.shape[1]\n",
    "    assert A.shape[0] == C.shape[1]\n",
    "    \n",
    "    is_observable = None\n",
    "    n = A.shape[0]\n",
    "    if method == 'rank_criteria':\n",
    "        U = get_control_matrix(A, B)\n",
    "        is_observable = np.linalg.matrix_rank(U) == n\n",
    "    elif method == 'eigen_values_criteria':\n",
    "        is_observable = True\n",
    "        _, J = Matrix(A).jordan_form()\n",
    "        _, jordan_cells = get_jordan_cells(J)\n",
    "       \n",
    "        for i in range(len(jordan_cells)):\n",
    "            for j in range(len(jordan_cells)):\n",
    "                if i != j and np.array_equal(jordan_cells[i], jordan_cells[j]):\n",
    "                    is_observable = False\n",
    "        \n",
    "        is_observable = is_observable and np.all(check_eigenvalues_observable(A, B))\n",
    "    else:\n",
    "        raise NotImplementedError\n",
    "    \n",
    "    return is_observable"
   ]
  },
  {
   "cell_type": "code",
   "execution_count": 163,
   "metadata": {},
   "outputs": [],
   "source": [
    "def check_is_state_controllable(A, C, x):\n",
    "    V = get_observation_matrix(A, C)\n",
    "    print(V @ x)\n",
    "    return np.array_equal(V @ x, np.zeros(5))\n",
    "    "
   ]
  },
  {
   "cell_type": "code",
   "execution_count": 164,
   "metadata": {},
   "outputs": [
    {
     "ename": "NameError",
     "evalue": "name 'x' is not defined",
     "output_type": "error",
     "traceback": [
      "\u001b[0;31m---------------------------------------------------------------------------\u001b[0m",
      "\u001b[0;31mNameError\u001b[0m                                 Traceback (most recent call last)",
      "Cell \u001b[0;32mIn[164], line 1\u001b[0m\n\u001b[0;32m----> 1\u001b[0m check_is_state_controllable(A, C, \u001b[43mx\u001b[49m)\n",
      "\u001b[0;31mNameError\u001b[0m: name 'x' is not defined"
     ]
    }
   ],
   "source": [
    "check_is_state_controllable(A, C, x1)"
   ]
  },
  {
   "cell_type": "code",
   "execution_count": null,
   "metadata": {},
   "outputs": [],
   "source": [
    "def get_observability_gramian(A, C, t1):\n",
    "    observability_gramian = integrate.quad_vec(lambda x: expm(A.T*x) @ C.T @ C @ expm(A*x), 0, t1)[0] \n",
    "\n",
    "    return observability_gramian"
   ]
  },
  {
   "cell_type": "code",
   "execution_count": 160,
   "metadata": {},
   "outputs": [
    {
     "data": {
      "text/plain": [
       "array([[  9.,  -2.,   9.],\n",
       "       [-33., -16., -47.],\n",
       "       [149., 138., 289.]])"
      ]
     },
     "execution_count": 160,
     "metadata": {},
     "output_type": "execute_result"
    }
   ],
   "source": [
    "get_observation_matrix(A, C)"
   ]
  },
  {
   "cell_type": "code",
   "execution_count": 161,
   "metadata": {},
   "outputs": [
    {
     "data": {
      "text/plain": [
       "array([ True,  True,  True])"
      ]
     },
     "execution_count": 161,
     "metadata": {},
     "output_type": "execute_result"
    }
   ],
   "source": [
    "check_eigenvalues_observable(A, C, method='jordan_form')"
   ]
  },
  {
   "cell_type": "code",
   "execution_count": 162,
   "metadata": {},
   "outputs": [
    {
     "data": {
      "text/plain": [
       "True"
      ]
     },
     "execution_count": 162,
     "metadata": {},
     "output_type": "execute_result"
    }
   ],
   "source": [
    "check_system_observable(A, C, method='eigen_values_criteria')"
   ]
  }
 ],
 "metadata": {
  "kernelspec": {
   "display_name": "control-theory",
   "language": "python",
   "name": "python3"
  },
  "language_info": {
   "codemirror_mode": {
    "name": "ipython",
    "version": 3
   },
   "file_extension": ".py",
   "mimetype": "text/x-python",
   "name": "python",
   "nbconvert_exporter": "python",
   "pygments_lexer": "ipython3",
   "version": "3.10.13"
  }
 },
 "nbformat": 4,
 "nbformat_minor": 2
}
