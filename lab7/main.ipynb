{
 "cells": [
  {
   "cell_type": "code",
   "execution_count": 290,
   "metadata": {},
   "outputs": [],
   "source": [
    "import matplotlib.pyplot as plt\n",
    "from scipy.linalg import expm\n",
    "import scipy.integrate as integrate\n",
    "from sympy import Matrix\n",
    "import numpy as np\n",
    "import control \n",
    "import sympy\n",
    "import os"
   ]
  },
  {
   "cell_type": "code",
   "execution_count": 291,
   "metadata": {},
   "outputs": [],
   "source": [
    "A = [\n",
    "    [13, -11, 14],\n",
    "    [10, -7, 10],\n",
    "    [-10, 6, -11]\n",
    "]\n",
    "\n",
    "B = [[-5, -3, 5]]\n",
    "x1 = [[-3, -1, 1]]"
   ]
  },
  {
   "cell_type": "code",
   "execution_count": 292,
   "metadata": {},
   "outputs": [],
   "source": [
    "A = np.array(A)\n",
    "B = np.array(B).reshape(-1, 1)\n",
    "x1 = np.array(x1).reshape(-1, 1)"
   ]
  },
  {
   "cell_type": "code",
   "execution_count": 293,
   "metadata": {},
   "outputs": [],
   "source": [
    "def get_jordan_cells(A):\n",
    "    assert len(A.shape) == 2\n",
    "    assert A.shape[0] == A.shape[1]\n",
    "    \n",
    "    n = A.shape[0]\n",
    "    jordan_cells_poses = []\n",
    "    jordan_cells = []\n",
    "    current_jordan_cell_size = 1\n",
    "    current_jordan_cell_pos = 0\n",
    "\n",
    "    while current_jordan_cell_pos + current_jordan_cell_size < n:\n",
    "        \n",
    "        jordan_cell_down_element_pos = current_jordan_cell_pos + current_jordan_cell_size - 1\n",
    "        if A[jordan_cell_down_element_pos, jordan_cell_down_element_pos + 1] == 1 or A[jordan_cell_down_element_pos + 1, jordan_cell_down_element_pos] == 1:\n",
    "            current_jordan_cell_size += 1\n",
    "        else:\n",
    "            jordan_cells_poses.append((current_jordan_cell_pos, current_jordan_cell_size))\n",
    "            current_jordan_cell_pos += current_jordan_cell_size\n",
    "            current_jordan_cell_size = 1\n",
    "\n",
    "    jordan_cells_poses.append((current_jordan_cell_pos, current_jordan_cell_size))\n",
    "    \n",
    "    for pos in jordan_cells_poses:\n",
    "        jordan_cells.append(A[pos[0]:pos[0]+pos[1], pos[0]:pos[0]+pos[1]])\n",
    "\n",
    "    return jordan_cells_poses, jordan_cells"
   ]
  },
  {
   "cell_type": "code",
   "execution_count": 294,
   "metadata": {},
   "outputs": [],
   "source": [
    "def get_control_matrix(A, B):\n",
    "    assert len(A.shape) == 2\n",
    "    assert A.shape[0] == A.shape[1]\n",
    "    assert A.shape[0] == B.shape[0]\n",
    "\n",
    "    n = A.shape[0]\n",
    "    U = np.zeros((n, 0))\n",
    "    for i in range(n):\n",
    "        new_column = (np.linalg.matrix_power(A, i) @ B).reshape((-1, 1))\n",
    "        U = np.concatenate((U, new_column), axis=1)\n",
    "\n",
    "    return U\n",
    "    "
   ]
  },
  {
   "cell_type": "code",
   "execution_count": 295,
   "metadata": {},
   "outputs": [],
   "source": [
    "def check_eigenvalues_controllable(A, B, method = 'rank_criteria') -> np.array:\n",
    "    assert len(A.shape) == 2\n",
    "    assert A.shape[0] == A.shape[1]\n",
    "    assert A.shape[0] == B.shape[0]\n",
    "    \n",
    "    n = A.shape[0]\n",
    "    is_controllable = []\n",
    "\n",
    "    if method == 'rank_criteria':\n",
    "        eigen_values, _ = np.linalg.eig(A)\n",
    "        for eigen_value in eigen_values:\n",
    "            M = np.concatenate((A - eigen_value * np.eye(n), B.reshape(-1, 1)), axis=1)\n",
    "            is_controllable.append(np.linalg.matrix_rank(M) == n)\n",
    "    elif method == 'jordan_form':\n",
    "        P, J = Matrix(A).jordan_form()\n",
    "        jordan_cells_poses, _ = get_jordan_cells(J)\n",
    "        B_jordan_form = np.array(P.inv() @ B).T.flatten()\n",
    "        print('jordan_form ', B_jordan_form)\n",
    "        for jordan_cells_pose in jordan_cells_poses:\n",
    "            down_stroke_id = jordan_cells_pose[0] + jordan_cells_pose[1] - 1\n",
    "            is_controllable.append(True if B_jordan_form[down_stroke_id] != 0 else False) \n",
    "    else:\n",
    "        raise NotImplementedError\n",
    "\n",
    "    return np.array(is_controllable)"
   ]
  },
  {
   "cell_type": "code",
   "execution_count": 296,
   "metadata": {},
   "outputs": [],
   "source": [
    "def check_system_controllable(A, B, method = 'rank_criteria'):\n",
    "    assert len(A.shape) == 2\n",
    "    assert A.shape[0] == A.shape[1]\n",
    "    assert A.shape[0] == B.shape[0]\n",
    "    \n",
    "    is_controllable = None\n",
    "    n = A.shape[0]\n",
    "    if method == 'rank_criteria':\n",
    "        U = get_control_matrix(A, B)\n",
    "        is_controllable = np.linalg.matrix_rank(U) == n\n",
    "    elif method == 'eigen_values_criteria':\n",
    "        is_controllable = True\n",
    "        _, J = Matrix(A).jordan_form()\n",
    "        _, jordan_cells = get_jordan_cells(J)\n",
    "       \n",
    "        for i in range(len(jordan_cells)):\n",
    "            for j in range(len(jordan_cells)):\n",
    "                if i != j and np.array_equal(jordan_cells[i], jordan_cells[j]):\n",
    "                    is_controllable = False\n",
    "        \n",
    "        is_controllable = is_controllable and np.all(check_eigenvalues_controllable(A, B))\n",
    "    else:\n",
    "        raise NotImplementedError\n",
    "    \n",
    "    return is_controllable"
   ]
  },
  {
   "cell_type": "code",
   "execution_count": 297,
   "metadata": {},
   "outputs": [],
   "source": [
    "def check_is_state_controllable(A, B, x):\n",
    "    U = get_control_matrix(A, B)\n",
    "    return np.linalg.matrix_rank(U) == np.linalg.matrix_rank(np.concatenate((U, x.reshape(-1, 1)), axis=1))\n",
    "    "
   ]
  },
  {
   "cell_type": "code",
   "execution_count": 298,
   "metadata": {},
   "outputs": [],
   "source": [
    "def get_controllability_gramian(A, B, t1):\n",
    "    controllability_gramian = integrate.quad_vec(lambda x: expm(A*x) @ B @ B.T @ expm(A.T*x), 0, t1)[0] \n",
    "\n",
    "    return controllability_gramian"
   ]
  },
  {
   "cell_type": "code",
   "execution_count": 299,
   "metadata": {},
   "outputs": [],
   "source": [
    "def get_control(A, B, t1, x1, P = None):\n",
    "    if P is None:\n",
    "        P = get_controllability_gramian(A, B, t1)\n",
    "    \n",
    "    u = lambda t: (B.T @ expm(A.T*(t1 - t)) @ np.linalg.pinv(P) @  x1)[0][0]\n",
    "\n",
    "    t = np.linspace(0, t1, 100)\n",
    "\n",
    "    U = []\n",
    "    for step in t:\n",
    "        U.append(u(step))\n",
    "\n",
    "    return U, t"
   ]
  },
  {
   "cell_type": "markdown",
   "metadata": {},
   "source": [
    "Tests:"
   ]
  },
  {
   "cell_type": "code",
   "execution_count": 300,
   "metadata": {},
   "outputs": [
    {
     "name": "stdout",
     "output_type": "stream",
     "text": [
      "jordan_form  [2 3/2 - 3*I/2 3/2 + 3*I/2]\n"
     ]
    }
   ],
   "source": [
    "assert np.array_equal(get_control_matrix(A, B).shape, np.array((A.shape[0], A.shape[0]*B.shape[1])))\n",
    "assert np.array_equal(check_eigenvalues_controllable(A, B, method = 'rank_criteria'), check_eigenvalues_controllable(A, B, method = 'jordan_form'))\n",
    "assert check_system_controllable(A, B, method = 'rank_criteria') == check_system_controllable(A, B, method = 'eigen_values_criteria')\n",
    "assert check_is_state_controllable(A, B, np.zeros(A.shape[0])) == True\n",
    "A_test = np.array([\n",
    "    [0, 0, 1, 1],\n",
    "    [0, 0, 0, 1],\n",
    "    [0, 0, 0, 0],\n",
    "    [0, 0, 0, 0],\n",
    "])\n",
    "B_test = np.array([\n",
    "    [0, 0],\n",
    "    [0, 0],\n",
    "    [1, 0],\n",
    "    [0, 1],\n",
    "])\n",
    "P_test = np.array([\n",
    "    [2./3., 1./3., 1./2., 1./2.],\n",
    "    [1./3., 1./3., 0, 1./2.],\n",
    "    [1./2., 0., 1., 0.],\n",
    "    [1./2., 1./2., 0., 1.],\n",
    "])\n",
    "x1_test = np.array([[1, 1, 0, 0]]).reshape(-1, 1)\n",
    "assert np.linalg.norm(get_controllability_gramian(A_test, B_test, t1=1) - P_test) < 0.001"
   ]
  },
  {
   "cell_type": "code",
   "execution_count": 301,
   "metadata": {},
   "outputs": [],
   "source": [
    "def plot_result(A, B, U, t):\n",
    "    ss = control.ss(A, B, A * 0, B * 0)\n",
    "    output = control.forced_response(ss, X0=[0,0,0], U=U, T=t).states\n",
    "\n",
    "    fig, axs = plt.subplots(2, 2, figsize=(8, 8))\n",
    "    plt.subplots_adjust(left=0.1, bottom=0.1, right=0.9, top=0.9, wspace=0.4,hspace=0.4)\n",
    "    for i in range(3):\n",
    "        axs[i//2, i % 2].plot(t, output[i], linewidth=4)\n",
    "        axs[i//2, i % 2].scatter(t[-1], x1[i], color='r', linewidth=4, label='goal')\n",
    "        axs[i//2, i % 2].set_title(f'x_{i} = x_{i}(t)', fontsize=12)\n",
    "        axs[i//2, i % 2].set_xlabel(f\"t, [c]\", fontsize=12)\n",
    "        axs[i//2, i % 2].grid(True)\n",
    "        axs[i//2, i % 2].legend()\n",
    "        \n",
    "        \n",
    "    axs[1, 1].plot(t, np.array(U).reshape(-1), linewidth=4)\n",
    "    axs[1, 1].set_title(f'u = u(t)', fontsize=12)\n",
    "    axs[1, 1].set_xlabel(f\"t, [c]\", fontsize=12)\n",
    "    axs[1, 1].grid(True)\n",
    "    # plt.savefig(f'{file_name}.jpg') "
   ]
  },
  {
   "cell_type": "markdown",
   "metadata": {},
   "source": [
    "Lab:"
   ]
  },
  {
   "cell_type": "code",
   "execution_count": 302,
   "metadata": {},
   "outputs": [
    {
     "data": {
      "text/plain": [
       "array([[ -5.,  38., -59.],\n",
       "       [ -3.,  21.,   3.],\n",
       "       [  5., -23.,  -1.]])"
      ]
     },
     "execution_count": 302,
     "metadata": {},
     "output_type": "execute_result"
    }
   ],
   "source": [
    "get_control_matrix(A, B)"
   ]
  },
  {
   "cell_type": "code",
   "execution_count": 303,
   "metadata": {},
   "outputs": [
    {
     "data": {
      "text/plain": [
       "EigResult(eigenvalues=array([-2.+5.j, -2.-5.j, -1.+0.j]), eigenvectors=array([[-7.45355992e-01+0.j       , -7.45355992e-01-0.j       ,\n",
       "        -7.07106781e-01+0.j       ],\n",
       "       [-4.47213595e-01+0.1490712j, -4.47213595e-01-0.1490712j,\n",
       "         2.10942375e-15+0.j       ],\n",
       "       [ 4.47213595e-01-0.1490712j,  4.47213595e-01+0.1490712j,\n",
       "         7.07106781e-01+0.j       ]]))"
      ]
     },
     "execution_count": 303,
     "metadata": {},
     "output_type": "execute_result"
    }
   ],
   "source": [
    "np.linalg.eig(A)"
   ]
  },
  {
   "cell_type": "code",
   "execution_count": 304,
   "metadata": {},
   "outputs": [
    {
     "data": {
      "text/latex": [
       "$\\displaystyle \\left[\\begin{matrix}-1 & 0 & 0\\\\0 & -2 - 5 i & 0\\\\0 & 0 & -2 + 5 i\\end{matrix}\\right]$"
      ],
      "text/plain": [
       "Matrix([\n",
       "[-1,        0,        0],\n",
       "[ 0, -2 - 5*I,        0],\n",
       "[ 0,        0, -2 + 5*I]])"
      ]
     },
     "execution_count": 304,
     "metadata": {},
     "output_type": "execute_result"
    }
   ],
   "source": [
    "_, J = Matrix(A).jordan_form()\n",
    "J"
   ]
  },
  {
   "cell_type": "code",
   "execution_count": 305,
   "metadata": {},
   "outputs": [
    {
     "data": {
      "text/plain": [
       "True"
      ]
     },
     "execution_count": 305,
     "metadata": {},
     "output_type": "execute_result"
    }
   ],
   "source": [
    "check_system_controllable(A, B)"
   ]
  },
  {
   "cell_type": "code",
   "execution_count": 306,
   "metadata": {},
   "outputs": [
    {
     "data": {
      "text/plain": [
       "array([ True,  True,  True])"
      ]
     },
     "execution_count": 306,
     "metadata": {},
     "output_type": "execute_result"
    }
   ],
   "source": [
    "check_eigenvalues_controllable(A, B)"
   ]
  },
  {
   "cell_type": "code",
   "execution_count": 307,
   "metadata": {},
   "outputs": [
    {
     "name": "stdout",
     "output_type": "stream",
     "text": [
      "jordan_form  [2 3/2 - 3*I/2 3/2 + 3*I/2]\n"
     ]
    },
    {
     "data": {
      "text/plain": [
       "array([ True,  True,  True])"
      ]
     },
     "execution_count": 307,
     "metadata": {},
     "output_type": "execute_result"
    }
   ],
   "source": [
    "check_eigenvalues_controllable(A, B, method = 'jordan_form')"
   ]
  },
  {
   "cell_type": "code",
   "execution_count": 308,
   "metadata": {},
   "outputs": [
    {
     "data": {
      "text/plain": [
       "True"
      ]
     },
     "execution_count": 308,
     "metadata": {},
     "output_type": "execute_result"
    }
   ],
   "source": [
    "check_is_state_controllable(A, B, x1)"
   ]
  },
  {
   "cell_type": "code",
   "execution_count": 309,
   "metadata": {},
   "outputs": [
    {
     "data": {
      "text/plain": [
       "array([[ 2.65554766,  0.82212141, -2.02110313],\n",
       "       [ 0.82212141,  0.2545176 , -0.62570602],\n",
       "       [-2.02110313, -0.62570602,  1.53823558]])"
      ]
     },
     "execution_count": 309,
     "metadata": {},
     "output_type": "execute_result"
    }
   ],
   "source": [
    "expm(A*1) @ B @ B.reshape(1, -1) @ expm(A.T*1)"
   ]
  },
  {
   "cell_type": "code",
   "execution_count": 310,
   "metadata": {},
   "outputs": [],
   "source": [
    "P = get_controllability_gramian(A, B, t1=3)"
   ]
  },
  {
   "cell_type": "code",
   "execution_count": null,
   "metadata": {},
   "outputs": [],
   "source": [
    "P"
   ]
  },
  {
   "cell_type": "code",
   "execution_count": 311,
   "metadata": {},
   "outputs": [
    {
     "data": {
      "text/plain": [
       "(array([[ 3.13226347,  1.70315356, -2.4629419 ],\n",
       "        [ 1.70315356,  1.47412296, -1.12126199],\n",
       "        [-2.4629419 , -1.12126199,  2.76344352]]),\n",
       " array([6.26534005, 0.23256956, 0.87192033]))"
      ]
     },
     "execution_count": 311,
     "metadata": {},
     "output_type": "execute_result"
    }
   ],
   "source": [
    "P, np.linalg.eig(P)[0]"
   ]
  },
  {
   "cell_type": "code",
   "execution_count": 312,
   "metadata": {},
   "outputs": [
    {
     "data": {
      "image/png": "[encoded data removed]",
      "text/plain": [
       "<Figure size 800x800 with 4 Axes>"
      ]
     },
     "metadata": {},
     "output_type": "display_data"
    }
   ],
   "source": [
    "U, t = get_control(A, B, 3, x1)\n",
    "plot_result(A, B, U, t)"
   ]
  },
  {
   "cell_type": "markdown",
   "metadata": {},
   "source": [
    "# Задание №2"
   ]
  },
  {
   "cell_type": "code",
   "execution_count": 313,
   "metadata": {},
   "outputs": [],
   "source": [
    "A = [\n",
    "    [13, -11, 14],\n",
    "    [10, -7, 10],\n",
    "    [-10, 6, -11]\n",
    "]\n",
    "\n",
    "B = [[1, -1, 1]]\n",
    "x1 = [[-3, -1, 1]]\n",
    "x2 = [[-6, -1, 4]]\n",
    "\n",
    "A = np.array(A)\n",
    "B = np.array(B).reshape(-1, 1)\n",
    "x1 = np.array(x1).reshape(-1, 1)\n",
    "x2 = np.array(x2).reshape(-1, 1)"
   ]
  },
  {
   "cell_type": "code",
   "execution_count": 314,
   "metadata": {},
   "outputs": [
    {
     "data": {
      "text/plain": [
       "True"
      ]
     },
     "execution_count": 314,
     "metadata": {},
     "output_type": "execute_result"
    }
   ],
   "source": [
    "check_is_state_controllable(A, B, x1)"
   ]
  },
  {
   "cell_type": "code",
   "execution_count": 315,
   "metadata": {},
   "outputs": [
    {
     "data": {
      "text/plain": [
       "False"
      ]
     },
     "execution_count": 315,
     "metadata": {},
     "output_type": "execute_result"
    }
   ],
   "source": [
    "check_is_state_controllable(A, B, x2)"
   ]
  },
  {
   "cell_type": "markdown",
   "metadata": {},
   "source": [
    "# Задание №3"
   ]
  },
  {
   "cell_type": "code",
   "execution_count": 316,
   "metadata": {},
   "outputs": [],
   "source": [
    "A = np.array([\n",
    "    [-13, 2, -12],\n",
    "    [-6, -1, -8],\n",
    "    [8, -4, 5]\n",
    "])\n",
    "C = np.array([[9, -2, 9]])\n",
    "y = lambda t: 21*np.exp(-5*t)*np.cos(2*t) - 7*np.exp(-5*t)*np.sin(2*t)"
   ]
  },
  {
   "cell_type": "code",
   "execution_count": 317,
   "metadata": {},
   "outputs": [],
   "source": [
    "def get_observation_matrix(A, C):\n",
    "    assert len(A.shape) == 2\n",
    "    assert A.shape[0] == A.shape[1]\n",
    "    assert A.shape[0] == C.shape[1]\n",
    "\n",
    "    n = A.shape[0]\n",
    "    U = np.zeros((0, n))\n",
    "    for i in range(n):\n",
    "        new_column = (C @ np.linalg.matrix_power(A, i))\n",
    "        U = np.concatenate((U, new_column))\n",
    "\n",
    "    return U\n",
    "    "
   ]
  },
  {
   "cell_type": "code",
   "execution_count": 318,
   "metadata": {},
   "outputs": [],
   "source": [
    "def check_eigenvalues_observable(A, C, method = 'rank_criteria') -> np.array:\n",
    "    assert len(A.shape) == 2\n",
    "    assert A.shape[0] == A.shape[1]\n",
    "    assert A.shape[0] == C.shape[1]\n",
    "    \n",
    "    n = A.shape[0]\n",
    "    is_observable = None\n",
    "\n",
    "    if method == 'rank_criteria':\n",
    "        is_observable = []\n",
    "        eigen_values, _ = np.linalg.eig(A)\n",
    "        for eigen_value in eigen_values:\n",
    "            M = np.concatenate((A - eigen_value * np.eye(n), C))\n",
    "            is_observable.append(np.linalg.matrix_rank(M) == n)\n",
    "    elif method == 'jordan_form':\n",
    "        is_observable = []\n",
    "        P, J = Matrix(A).jordan_form()\n",
    "        jordan_cells_poses, _ = get_jordan_cells(J)\n",
    "        C_jordan_form = C @ P\n",
    "        for jordan_cells_pose in jordan_cells_poses:\n",
    "            is_observable.append(True if C_jordan_form[jordan_cells_pose[0]] != 0 else False) \n",
    "    else:\n",
    "        raise NotImplementedError\n",
    "\n",
    "    return np.array(is_observable)"
   ]
  },
  {
   "cell_type": "code",
   "execution_count": 319,
   "metadata": {},
   "outputs": [],
   "source": [
    "def check_system_observable(A, B, method = 'rank_criteria'):\n",
    "    assert len(A.shape) == 2\n",
    "    assert A.shape[0] == A.shape[1]\n",
    "    assert A.shape[0] == C.shape[1]\n",
    "    \n",
    "    is_observable = None\n",
    "    n = A.shape[0]\n",
    "    if method == 'rank_criteria':\n",
    "        V = get_observation_matrix(A, C)\n",
    "        is_observable = np.linalg.matrix_rank(V) == n\n",
    "    elif method == 'eigen_values_criteria':\n",
    "        is_observable = True\n",
    "        _, J = Matrix(A).jordan_form()\n",
    "        _, jordan_cells = get_jordan_cells(J)\n",
    "       \n",
    "        for i in range(len(jordan_cells)):\n",
    "            for j in range(len(jordan_cells)):\n",
    "                if i != j and np.array_equal(jordan_cells[i], jordan_cells[j]):\n",
    "                    is_observable = False\n",
    "        \n",
    "        is_observable = is_observable and np.all(check_eigenvalues_observable(A, B))\n",
    "    else:\n",
    "        raise NotImplementedError\n",
    "    \n",
    "    return is_observable"
   ]
  },
  {
   "cell_type": "code",
   "execution_count": 320,
   "metadata": {},
   "outputs": [],
   "source": [
    "def get_observability_gramian(A, C, t1):\n",
    "    observability_gramian = integrate.quad_vec(lambda x: expm(A.T*x) @ C.T @ C @ expm(A*x), 0, t1)[0] \n",
    "\n",
    "    return observability_gramian"
   ]
  },
  {
   "cell_type": "code",
   "execution_count": 321,
   "metadata": {},
   "outputs": [],
   "source": [
    "def get_init_state(A, C, y, t1):\n",
    "    Q = get_observability_gramian(A, C, t1)\n",
    "    init_state = np.linalg.pinv(Q) @ integrate.quad_vec(lambda x: expm(A.T*x) @ C.T * y(x), 0, t1)[0]\n",
    "\n",
    "    return init_state"
   ]
  },
  {
   "cell_type": "code",
   "execution_count": 322,
   "metadata": {},
   "outputs": [],
   "source": [
    "def get_restored_state(A, init_state, time):\n",
    "    X = []\n",
    "    for t in time:\n",
    "        X.append(expm(A*t) @ init_state)\n",
    "\n",
    "    return X"
   ]
  },
  {
   "cell_type": "code",
   "execution_count": 323,
   "metadata": {},
   "outputs": [],
   "source": [
    "def plot_task3(A, C, y, times):\n",
    "\n",
    "    x0 = get_init_state(A, C, y, times[-1])\n",
    "    ss = control.ss(A, A * 0, C, C * 0)\n",
    "    res = control.forced_response(ss, X0=x0, U=0, T=times)\n",
    "    output = res.states\n",
    "\n",
    "    fig, axs = plt.subplots(2, 2, figsize=(8, 8))\n",
    "    plt.subplots_adjust(left=0.1, bottom=0.1, right=0.9, top=0.9, wspace=0.4,hspace=0.4)\n",
    "    for i in range(3):\n",
    "        axs[i//2, i % 2].plot(times, output[i], linewidth=4)\n",
    "        axs[i//2, i % 2].scatter(0, x0[i], color='r', linewidth=4, label='initial')\n",
    "        axs[i//2, i % 2].set_title(f'x_{i} = x_{i}(t)', fontsize=12)\n",
    "        axs[i//2, i % 2].set_xlabel(f\"t, [c]\", fontsize=12)\n",
    "        axs[i//2, i % 2].grid(True)\n",
    "        axs[i//2, i % 2].legend()\n",
    "        \n",
    "        \n",
    "    axs[1, 1].plot(times, res.outputs.reshape(-1), linewidth=4)\n",
    "    axs[1, 1].scatter(0, C @ x0, color='r', linewidth=4, label='initial')\n",
    "    axs[1, 1].set_title(f'y = y(t)', fontsize=12)\n",
    "    axs[1, 1].set_xlabel(f\"t, [c]\", fontsize=12)\n",
    "    axs[1, 1].grid(True)\n",
    "    return x0"
   ]
  },
  {
   "cell_type": "markdown",
   "metadata": {},
   "source": [
    "Tests:"
   ]
  },
  {
   "cell_type": "code",
   "execution_count": 324,
   "metadata": {},
   "outputs": [
    {
     "data": {
      "text/plain": [
       "array([[  9.,  -2.,   9.],\n",
       "       [-33., -16., -47.],\n",
       "       [149., 138., 289.]])"
      ]
     },
     "execution_count": 324,
     "metadata": {},
     "output_type": "execute_result"
    }
   ],
   "source": [
    "get_observation_matrix(A, C)"
   ]
  },
  {
   "cell_type": "code",
   "execution_count": 325,
   "metadata": {},
   "outputs": [
    {
     "data": {
      "text/plain": [
       "array([ True,  True,  True])"
      ]
     },
     "execution_count": 325,
     "metadata": {},
     "output_type": "execute_result"
    }
   ],
   "source": [
    "check_eigenvalues_observable(A, C)"
   ]
  },
  {
   "cell_type": "code",
   "execution_count": 326,
   "metadata": {},
   "outputs": [
    {
     "data": {
      "text/plain": [
       "True"
      ]
     },
     "execution_count": 326,
     "metadata": {},
     "output_type": "execute_result"
    }
   ],
   "source": [
    "check_system_observable(A, C)"
   ]
  },
  {
   "cell_type": "code",
   "execution_count": 327,
   "metadata": {},
   "outputs": [
    {
     "name": "stdout",
     "output_type": "stream",
     "text": [
      "[[ 815.01961811 -809.9023922   812.77479397]\n",
      " [-809.9023922   807.99551112 -808.16446462]\n",
      " [ 812.77479397 -808.16446462  810.86790087]] [2.43186473e+03 1.45198513e-01 1.87310428e+00]\n"
     ]
    }
   ],
   "source": [
    "Q = get_observability_gramian(A, C, 3)\n",
    "print(Q, np.linalg.eig(Q)[0])"
   ]
  },
  {
   "cell_type": "code",
   "execution_count": 328,
   "metadata": {},
   "outputs": [],
   "source": [
    "x0 = get_init_state(A, C, y, 3)"
   ]
  },
  {
   "cell_type": "code",
   "execution_count": 329,
   "metadata": {},
   "outputs": [],
   "source": [
    "t = np.linspace(0, 3, 100)\n",
    "X = get_restored_state(A, x0, t)"
   ]
  },
  {
   "cell_type": "code",
   "execution_count": 330,
   "metadata": {},
   "outputs": [
    {
     "data": {
      "text/plain": [
       "array([[ 5.],\n",
       "       [ 3.],\n",
       "       [-2.]])"
      ]
     },
     "execution_count": 330,
     "metadata": {},
     "output_type": "execute_result"
    },
    {
     "data": {
      "image/png": "[encoded data removed]",
      "text/plain": [
       "<Figure size 800x800 with 4 Axes>"
      ]
     },
     "metadata": {},
     "output_type": "display_data"
    }
   ],
   "source": [
    "plot_task3(A, C, y, t)"
   ]
  }
 ],
 "metadata": {
  "kernelspec": {
   "display_name": "control-theory",
   "language": "python",
   "name": "python3"
  },
  "language_info": {
   "codemirror_mode": {
    "name": "ipython",
    "version": 3
   },
   "file_extension": ".py",
   "mimetype": "text/x-python",
   "name": "python",
   "nbconvert_exporter": "python",
   "pygments_lexer": "ipython3",
   "version": "3.10.13"
  }
 },
 "nbformat": 4,
 "nbformat_minor": 2
}
