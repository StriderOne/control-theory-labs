{
 "cells": [
  {
   "cell_type": "code",
   "execution_count": 44,
   "metadata": {},
   "outputs": [],
   "source": [
    "import matplotlib.pyplot as plt\n",
    "from scipy.linalg import expm\n",
    "import scipy.integrate as integrate\n",
    "from sympy import Matrix\n",
    "import numpy as np\n",
    "import control \n",
    "import sympy\n",
    "import os"
   ]
  },
  {
   "cell_type": "code",
   "execution_count": 45,
   "metadata": {},
   "outputs": [],
   "source": [
    "A = [\n",
    "    [13, -11, 14],\n",
    "    [10, -7, 10],\n",
    "    [-10, 6, -11]\n",
    "]\n",
    "\n",
    "B = [[-5, -3, 5]]\n",
    "x1 = [[-3, -1, 1]]"
   ]
  },
  {
   "cell_type": "code",
   "execution_count": 46,
   "metadata": {},
   "outputs": [],
   "source": [
    "A = np.array(A)\n",
    "B = np.array(B).reshape(-1, 1)\n",
    "x1 = np.array(x1).reshape(-1, 1)"
   ]
  },
  {
   "cell_type": "code",
   "execution_count": 47,
   "metadata": {},
   "outputs": [],
   "source": [
    "def get_control_matrix(A, B):\n",
    "    assert len(A.shape) == 2\n",
    "    assert A.shape[0] == A.shape[1]\n",
    "    assert A.shape[0] == B.shape[0]\n",
    "\n",
    "    n = A.shape[0]\n",
    "    U = np.zeros((n, 0))\n",
    "    for i in range(n):\n",
    "        new_column = (np.linalg.matrix_power(A, i) @ B).reshape((-1, 1))\n",
    "        U = np.concatenate((U, new_column), axis=1)\n",
    "\n",
    "    return U\n",
    "    "
   ]
  },
  {
   "cell_type": "code",
   "execution_count": 48,
   "metadata": {},
   "outputs": [],
   "source": [
    "def check_eigenvalues_controllable(A, B, method = 'rank_criteria') -> np.array:\n",
    "    assert len(A.shape) == 2\n",
    "    assert A.shape[0] == A.shape[1]\n",
    "    assert A.shape[0] == B.shape[0]\n",
    "    \n",
    "    n = A.shape[0]\n",
    "    is_controllable = None\n",
    "\n",
    "    if method == 'rank_criteria':\n",
    "        is_controllable = []\n",
    "        eigen_values, _ = np.linalg.eig(A)\n",
    "        for eigen_value in eigen_values:\n",
    "            M = np.concatenate((A - eigen_value * np.eye(n), B.reshape(-1, 1)), axis=1)\n",
    "            is_controllable.append(np.linalg.matrix_rank(M) == n)\n",
    "    elif method == 'jordan_form':\n",
    "        P, _ = Matrix(A).jordan_form()\n",
    "        B_jordan_form = np.array(P.inv() @ B).T\n",
    "        is_controllable = np.where(B_jordan_form.flatten() != 0, True, False)\n",
    "    else:\n",
    "        raise NotImplementedError\n",
    "\n",
    "    return np.array(is_controllable)"
   ]
  },
  {
   "cell_type": "code",
   "execution_count": 49,
   "metadata": {},
   "outputs": [],
   "source": [
    "def check_system_controllable(A, B, method = 'rank_criteria'):\n",
    "    assert len(A.shape) == 2\n",
    "    assert A.shape[0] == A.shape[1]\n",
    "    assert A.shape[0] == B.shape[0]\n",
    "    \n",
    "    is_controllable = None\n",
    "    n = A.shape[0]\n",
    "    if method == 'rank_criteria':\n",
    "        U = get_control_matrix(A, B)\n",
    "        is_controllable = np.linalg.matrix_rank(U) == n\n",
    "    elif method == 'eigen_values_criteria':\n",
    "        is_controllable = np.all(check_eigenvalues_controllable(A, B))\n",
    "    else:\n",
    "        raise NotImplementedError\n",
    "    \n",
    "    return is_controllable"
   ]
  },
  {
   "cell_type": "code",
   "execution_count": 50,
   "metadata": {},
   "outputs": [],
   "source": [
    "def check_is_state_controllable(A, B, x):\n",
    "    U = get_control_matrix(A, B)\n",
    "    return np.linalg.matrix_rank(U) == np.linalg.matrix_rank(np.concatenate((U, x.reshape(-1, 1)), axis=1))\n",
    "    "
   ]
  },
  {
   "cell_type": "code",
   "execution_count": 51,
   "metadata": {},
   "outputs": [],
   "source": [
    "def get_controllability_gramian(A, B, t1):\n",
    "    controllability_gramian = integrate.quad_vec(lambda x: expm(A*x) @ B @ B.T @ expm(A.T*x), 0, t1)[0] \n",
    "\n",
    "    return controllability_gramian"
   ]
  },
  {
   "cell_type": "code",
   "execution_count": 52,
   "metadata": {},
   "outputs": [],
   "source": [
    "def get_control(A, B, t1, x1, P = None):\n",
    "    if P is None:\n",
    "        P = get_controllability_gramian(A, B, t1)\n",
    "    \n",
    "    u = lambda t: (B.T @ expm(A.T*(t1 - t)) @ np.linalg.pinv(P) @  x1)[0][0]\n",
    "\n",
    "    t = np.linspace(0, t1, 100)\n",
    "\n",
    "    U = []\n",
    "    for step in t:\n",
    "        U.append(u(step))\n",
    "\n",
    "    return U, t"
   ]
  },
  {
   "cell_type": "markdown",
   "metadata": {},
   "source": [
    "Tests:"
   ]
  },
  {
   "cell_type": "code",
   "execution_count": 53,
   "metadata": {},
   "outputs": [],
   "source": [
    "assert np.array_equal(get_control_matrix(A, B).shape, np.array((A.shape[0], A.shape[0]*B.shape[1])))\n",
    "assert np.array_equal(check_eigenvalues_controllable(A, B, method = 'rank_criteria'), check_eigenvalues_controllable(A, B, method = 'jordan_form'))\n",
    "assert check_system_controllable(A, B, method = 'rank_criteria') == check_system_controllable(A, B, method = 'eigen_values_criteria')\n",
    "assert check_is_state_controllable(A, B, np.zeros(A.shape[0])) == True\n",
    "A_test = np.array([\n",
    "    [0, 0, 1, 1],\n",
    "    [0, 0, 0, 1],\n",
    "    [0, 0, 0, 0],\n",
    "    [0, 0, 0, 0],\n",
    "])\n",
    "B_test = np.array([\n",
    "    [0, 0],\n",
    "    [0, 0],\n",
    "    [1, 0],\n",
    "    [0, 1],\n",
    "])\n",
    "P_test = np.array([\n",
    "    [2./3., 1./3., 1./2., 1./2.],\n",
    "    [1./3., 1./3., 0, 1./2.],\n",
    "    [1./2., 0., 1., 0.],\n",
    "    [1./2., 1./2., 0., 1.],\n",
    "])\n",
    "x1_test = np.array([[1, 1, 0, 0]]).reshape(-1, 1)\n",
    "assert np.linalg.norm(get_controllability_gramian(A_test, B_test, t1=1) - P_test) < 0.001"
   ]
  },
  {
   "cell_type": "code",
   "execution_count": 54,
   "metadata": {},
   "outputs": [],
   "source": [
    "def plot_result(A, B, U, t):\n",
    "    ss = control.ss(A, B, A * 0, B * 0)\n",
    "    output = control.forced_response(ss, X0=[0,0,0], U=U, T=t).states\n",
    "\n",
    "    fig, axs = plt.subplots(2, 2, figsize=(8, 8))\n",
    "    plt.subplots_adjust(left=0.1, bottom=0.1, right=0.9, top=0.9, wspace=0.4,hspace=0.4)\n",
    "    for i in range(3):\n",
    "        axs[i//2, i % 2].plot(t, output[i], linewidth=4)\n",
    "        axs[i//2, i % 2].scatter(t[-1], x1[i], color='r', linewidth=4, label='goal')\n",
    "        axs[i//2, i % 2].set_title(f'x_{i} = x_{i}(t)', fontsize=12)\n",
    "        axs[i//2, i % 2].set_xlabel(f\"t, [c]\", fontsize=12)\n",
    "        axs[i//2, i % 2].grid(True)\n",
    "        axs[i//2, i % 2].legend()\n",
    "        \n",
    "        \n",
    "    axs[1, 1].plot(t, np.array(U).reshape(-1), linewidth=4)\n",
    "    axs[1, 1].set_title(f'u = u(t)', fontsize=12)\n",
    "    axs[1, 1].set_xlabel(f\"t, [c]\", fontsize=12)\n",
    "    axs[1, 1].grid(True)\n",
    "    # plt.savefig(f'{file_name}.jpg') "
   ]
  },
  {
   "cell_type": "markdown",
   "metadata": {},
   "source": [
    "Lab:"
   ]
  },
  {
   "cell_type": "code",
   "execution_count": 55,
   "metadata": {},
   "outputs": [
    {
     "data": {
      "text/plain": [
       "array([[ -5.,  38., -59.],\n",
       "       [ -3.,  21.,   3.],\n",
       "       [  5., -23.,  -1.]])"
      ]
     },
     "execution_count": 55,
     "metadata": {},
     "output_type": "execute_result"
    }
   ],
   "source": [
    "get_control_matrix(A, B)"
   ]
  },
  {
   "cell_type": "code",
   "execution_count": 56,
   "metadata": {},
   "outputs": [
    {
     "data": {
      "text/plain": [
       "True"
      ]
     },
     "execution_count": 56,
     "metadata": {},
     "output_type": "execute_result"
    }
   ],
   "source": [
    "check_system_controllable(A, B)"
   ]
  },
  {
   "cell_type": "code",
   "execution_count": 57,
   "metadata": {},
   "outputs": [
    {
     "data": {
      "text/plain": [
       "array([ True,  True,  True])"
      ]
     },
     "execution_count": 57,
     "metadata": {},
     "output_type": "execute_result"
    }
   ],
   "source": [
    "check_eigenvalues_controllable(A, B)"
   ]
  },
  {
   "cell_type": "code",
   "execution_count": 58,
   "metadata": {},
   "outputs": [
    {
     "data": {
      "text/plain": [
       "array([ True,  True,  True])"
      ]
     },
     "execution_count": 58,
     "metadata": {},
     "output_type": "execute_result"
    }
   ],
   "source": [
    "check_eigenvalues_controllable(A, B, method = 'jordan_form')"
   ]
  },
  {
   "cell_type": "code",
   "execution_count": 59,
   "metadata": {},
   "outputs": [
    {
     "data": {
      "text/plain": [
       "True"
      ]
     },
     "execution_count": 59,
     "metadata": {},
     "output_type": "execute_result"
    }
   ],
   "source": [
    "check_is_state_controllable(A, B, x1)"
   ]
  },
  {
   "cell_type": "code",
   "execution_count": 61,
   "metadata": {},
   "outputs": [
    {
     "data": {
      "text/plain": [
       "array([[ 2.65554766,  0.82212141, -2.02110313],\n",
       "       [ 0.82212141,  0.2545176 , -0.62570602],\n",
       "       [-2.02110313, -0.62570602,  1.53823558]])"
      ]
     },
     "execution_count": 61,
     "metadata": {},
     "output_type": "execute_result"
    }
   ],
   "source": [
    "expm(A*1) @ B @ B.reshape(1, -1) @ expm(A.T*1)"
   ]
  },
  {
   "cell_type": "code",
   "execution_count": 62,
   "metadata": {},
   "outputs": [],
   "source": [
    "P = get_controllability_gramian(A, B, t1=3)"
   ]
  },
  {
   "cell_type": "code",
   "execution_count": 63,
   "metadata": {},
   "outputs": [
    {
     "data": {
      "text/plain": [
       "(array([[ 3.13226347,  1.70315356, -2.4629419 ],\n",
       "        [ 1.70315356,  1.47412296, -1.12126199],\n",
       "        [-2.4629419 , -1.12126199,  2.76344352]]),\n",
       " array([6.26534005, 0.23256956, 0.87192033]))"
      ]
     },
     "execution_count": 63,
     "metadata": {},
     "output_type": "execute_result"
    }
   ],
   "source": [
    "P, np.linalg.eig(P)[0]"
   ]
  },
  {
   "cell_type": "code",
   "execution_count": 64,
   "metadata": {},
   "outputs": [
    {
     "data": {
      "image/png": "[encoded data removed]",
      "text/plain": [
       "<Figure size 800x800 with 4 Axes>"
      ]
     },
     "metadata": {},
     "output_type": "display_data"
    }
   ],
   "source": [
    "U, t = get_control(A, B, 3, x1)\n",
    "plot_result(A, B, U, t)"
   ]
  },
  {
   "cell_type": "markdown",
   "metadata": {},
   "source": [
    "# Задание №2"
   ]
  },
  {
   "cell_type": "code",
   "execution_count": 65,
   "metadata": {},
   "outputs": [],
   "source": [
    "A = [\n",
    "    [13, -11, 14],\n",
    "    [10, -7, 10],\n",
    "    [-10, 6, -11]\n",
    "]\n",
    "\n",
    "B = [[1, -1, 1]]\n",
    "x1 = [[-3, -1, 1]]\n",
    "x2 = [[-6, -1, 4]]\n",
    "\n",
    "A = np.array(A)\n",
    "B = np.array(B).reshape(-1, 1)\n",
    "x1 = np.array(x1).reshape(-1, 1)\n",
    "x2 = np.array(x2).reshape(-1, 1)"
   ]
  },
  {
   "cell_type": "code",
   "execution_count": 66,
   "metadata": {},
   "outputs": [
    {
     "data": {
      "text/plain": [
       "True"
      ]
     },
     "execution_count": 66,
     "metadata": {},
     "output_type": "execute_result"
    }
   ],
   "source": [
    "check_is_state_controllable(A, B, x1)"
   ]
  },
  {
   "cell_type": "code",
   "execution_count": 67,
   "metadata": {},
   "outputs": [
    {
     "data": {
      "text/plain": [
       "False"
      ]
     },
     "execution_count": 67,
     "metadata": {},
     "output_type": "execute_result"
    }
   ],
   "source": [
    "check_is_state_controllable(A, B, x2)"
   ]
  },
  {
   "cell_type": "code",
   "execution_count": null,
   "metadata": {},
   "outputs": [],
   "source": []
  },
  {
   "cell_type": "markdown",
   "metadata": {},
   "source": [
    "# Задание №3"
   ]
  },
  {
   "cell_type": "code",
   "execution_count": 71,
   "metadata": {},
   "outputs": [],
   "source": [
    "A = np.array([\n",
    "    [-13, 2, -12],\n",
    "    [-6, -1, -8],\n",
    "    [8, -4, 5]\n",
    "])\n",
    "C = np.array([[9, -2, 9]])"
   ]
  },
  {
   "cell_type": "code",
   "execution_count": 82,
   "metadata": {},
   "outputs": [],
   "source": [
    "def get_observation_matrix(A, C):\n",
    "    assert len(A.shape) == 2\n",
    "    assert A.shape[0] == A.shape[1]\n",
    "    assert A.shape[0] == C.shape[1]\n",
    "\n",
    "    n = A.shape[0]\n",
    "    U = np.zeros((0, n))\n",
    "    for i in range(n):\n",
    "        new_column = (C @ np.linalg.matrix_power(A, i))\n",
    "        U = np.concatenate((U, new_column))\n",
    "\n",
    "    return U\n",
    "    "
   ]
  },
  {
   "cell_type": "code",
   "execution_count": 85,
   "metadata": {},
   "outputs": [],
   "source": [
    "def check_eigenvalues_observable(A, C, method = 'rank_criteria') -> np.array:\n",
    "    assert len(A.shape) == 2\n",
    "    assert A.shape[0] == A.shape[1]\n",
    "    assert A.shape[0] == C.shape[1]\n",
    "    \n",
    "    n = A.shape[0]\n",
    "    is_observable = None\n",
    "\n",
    "    if method == 'rank_criteria':\n",
    "        is_observable = []\n",
    "        eigen_values, _ = np.linalg.eig(A)\n",
    "        for eigen_value in eigen_values:\n",
    "            M = np.concatenate((A - eigen_value * np.eye(n), C))\n",
    "            is_observable.append(np.linalg.matrix_rank(M) == n)\n",
    "    elif method == 'jordan_form':\n",
    "        # P, _ = Matrix(A).jordan_form()\n",
    "        # B_jordan_form = np.array(P.inv() @ B).T\n",
    "        # is_controllable = np.where(B_jordan_form.flatten() != 0, True, False)\n",
    "        raise NotImplementedError\n",
    "    else:\n",
    "        raise NotImplementedError\n",
    "\n",
    "    return np.array(is_observable)"
   ]
  },
  {
   "cell_type": "code",
   "execution_count": null,
   "metadata": {},
   "outputs": [],
   "source": [
    "def check_system_observable(A, B, method = 'rank_criteria'):\n",
    "    assert len(A.shape) == 2\n",
    "    assert A.shape[0] == A.shape[1]\n",
    "    assert A.shape[0] == B.shape[0]\n",
    "    \n",
    "    is_controllable = None\n",
    "    n = A.shape[0]\n",
    "    if method == 'rank_criteria':\n",
    "        U = get_control_matrix(A, B)\n",
    "        is_controllable = np.linalg.matrix_rank(U) == n\n",
    "    elif method == 'eigen_values_criteria':\n",
    "        is_controllable = np.all(check_eigenvalues_controllable(A, B))\n",
    "    else:\n",
    "        raise NotImplementedError\n",
    "    \n",
    "    return is_controllable"
   ]
  },
  {
   "cell_type": "code",
   "execution_count": 83,
   "metadata": {},
   "outputs": [
    {
     "data": {
      "text/plain": [
       "array([[  9.,  -2.,   9.],\n",
       "       [-33., -16., -47.],\n",
       "       [149., 138., 289.]])"
      ]
     },
     "execution_count": 83,
     "metadata": {},
     "output_type": "execute_result"
    }
   ],
   "source": [
    "get_observation_matrix(A, C)"
   ]
  },
  {
   "cell_type": "code",
   "execution_count": 86,
   "metadata": {},
   "outputs": [
    {
     "data": {
      "text/plain": [
       "array([ True,  True,  True])"
      ]
     },
     "execution_count": 86,
     "metadata": {},
     "output_type": "execute_result"
    }
   ],
   "source": [
    "check_eigenvalues_observable(A, C)"
   ]
  }
 ],
 "metadata": {
  "kernelspec": {
   "display_name": "control-theory",
   "language": "python",
   "name": "python3"
  },
  "language_info": {
   "codemirror_mode": {
    "name": "ipython",
    "version": 3
   },
   "file_extension": ".py",
   "mimetype": "text/x-python",
   "name": "python",
   "nbconvert_exporter": "python",
   "pygments_lexer": "ipython3",
   "version": "3.10.13"
  }
 },
 "nbformat": 4,
 "nbformat_minor": 2
}
