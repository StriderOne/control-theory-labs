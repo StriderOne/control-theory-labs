{
 "cells": [
  {
   "cell_type": "code",
   "execution_count": 204,
   "metadata": {},
   "outputs": [],
   "source": [
    "import matplotlib.pyplot as plt\n",
    "import scipy\n",
    "import sympy\n",
    "import numpy as np\n",
    "import control \n",
    "import os\n",
    "import array_to_latex as a2l\n",
    "from ControlTheoryToolbox import System, CToolbox\n",
    "import cvxpy"
   ]
  },
  {
   "cell_type": "code",
   "execution_count": 205,
   "metadata": {},
   "outputs": [],
   "source": [
    "def get_K(system : System, alpha: float, mu :float = None, x0:np.array = None, precision : float = 0.0000001) -> tuple:\n",
    "    \n",
    "    P = cvxpy.Variable(system.A.shape)\n",
    "    Y = cvxpy.Variable((system.B.T).shape)\n",
    "\n",
    "    constraints = [P >= precision*np.eye(system.A.shape[0]), (P @ (system.A.T) + system.A @ P + 2 * alpha * P + (Y.T) @ (system.B.T) + system.B @ Y) <= -precision*np.eye(system.A.shape[0])]\n",
    "\n",
    "    # if mu != None and x0 != None:\n",
    "    #     # constraint on output\n",
    "    #     constraints.append(np.block([[P, x0], [x0.T, np.ones(1)]]) >= 0)\n",
    "    #     constraints.append(np.block([[P, Y.T], [Y, mu*mu*np.ones(Y.shape[0])]]) >= 0)\n",
    "    # print(np.linalg.pinv(P).shape)\n",
    "    # print((Y@np.linalg.pinv(P)).shape)\n",
    "    problem = cvxpy.Problem(cvxpy.Minimize(cvxpy.sum_squares(P)), constraints)\n",
    "    print(problem.solve())\n",
    "    print(P.value)\n",
    "    P = P.value\n",
    "    Y = Y.value\n",
    "    print((P @ (system.A.T) + system.A @ P + 2 * alpha * P + (Y.T) @ (system.B.T) + system.B @ Y) )\n",
    "    return Y@np.linalg.pinv(P)"
   ]
  },
  {
   "cell_type": "code",
   "execution_count": 206,
   "metadata": {},
   "outputs": [],
   "source": [
    "A = np.array([\n",
    "    [0, 1],\n",
    "    [0, 0]\n",
    "])\n",
    "B = np.array([\n",
    "    [0],\n",
    "    [1]\n",
    "])\n",
    "system = System(A, B, A*0, B*0)"
   ]
  },
  {
   "cell_type": "code",
   "execution_count": 207,
   "metadata": {},
   "outputs": [
    {
     "name": "stdout",
     "output_type": "stream",
     "text": [
      "1.6813748271933146e-14\n",
      "[[ 4.86131128e-08 -4.93065025e-08]\n",
      " [-4.93065025e-08  9.79196158e-08]]\n",
      "[[-4.99998922e-08 -7.21239820e-17]\n",
      " [-7.21239687e-17 -1.59996157e-07]]\n"
     ]
    }
   ],
   "source": [
    "K = get_K(system, 0.5)"
   ]
  },
  {
   "cell_type": "code",
   "execution_count": 208,
   "metadata": {},
   "outputs": [
    {
     "data": {
      "text/plain": [
       "array([[-4.77390274, -3.72083092]])"
      ]
     },
     "execution_count": 208,
     "metadata": {},
     "output_type": "execute_result"
    }
   ],
   "source": [
    "K"
   ]
  },
  {
   "cell_type": "code",
   "execution_count": 209,
   "metadata": {},
   "outputs": [
    {
     "data": {
      "text/plain": [
       "array([-1.86041546+1.14575611j, -1.86041546-1.14575611j])"
      ]
     },
     "execution_count": 209,
     "metadata": {},
     "output_type": "execute_result"
    }
   ],
   "source": [
    "np.linalg.eig(A+B@K)[0]"
   ]
  }
 ],
 "metadata": {
  "kernelspec": {
   "display_name": "control-theory",
   "language": "python",
   "name": "python3"
  },
  "language_info": {
   "codemirror_mode": {
    "name": "ipython",
    "version": 3
   },
   "file_extension": ".py",
   "mimetype": "text/x-python",
   "name": "python",
   "nbconvert_exporter": "python",
   "pygments_lexer": "ipython3",
   "version": "3.10.13"
  }
 },
 "nbformat": 4,
 "nbformat_minor": 2
}
