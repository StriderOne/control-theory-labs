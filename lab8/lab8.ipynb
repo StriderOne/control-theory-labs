{
 "cells": [
  {
   "cell_type": "code",
   "execution_count": 11,
   "metadata": {},
   "outputs": [],
   "source": [
    "import matplotlib.pyplot as plt\n",
    "import scipy\n",
    "import sympy\n",
    "import numpy as np\n",
    "import control \n",
    "import os"
   ]
  },
  {
   "cell_type": "markdown",
   "metadata": {},
   "source": [
    "# Task 1"
   ]
  },
  {
   "cell_type": "code",
   "execution_count": 12,
   "metadata": {},
   "outputs": [],
   "source": [
    "def check_eigenvalues_controllable(A, B) -> np.array:\n",
    "    assert len(A.shape) == 2\n",
    "    assert A.shape[0] == A.shape[1]\n",
    "    assert A.shape[0] == B.shape[0]\n",
    "    \n",
    "    n = A.shape[0]\n",
    "    is_controllable = []\n",
    "\n",
    "  \n",
    "    eigen_values, _ = np.linalg.eig(A)\n",
    "    for eigen_value in eigen_values:\n",
    "        M = np.concatenate((A - eigen_value * np.eye(n), B.reshape(-1, 1)), axis=1)\n",
    "        is_controllable.append(np.linalg.matrix_rank(M) == n)\n",
    "\n",
    "    return np.array(is_controllable)"
   ]
  },
  {
   "cell_type": "code",
   "execution_count": 13,
   "metadata": {},
   "outputs": [],
   "source": [
    "def modeling(A, B, K):\n",
    "    ss = control.ss((A + B @ K), B*0, A * 0, B * 0)\n",
    "\n",
    "    time = np.linspace(0, 3, 1000)\n",
    "    output = control.forced_response(ss, X0=[1, 1, 1, 1], U=0, T=time).states\n",
    "\n",
    "    fig, axs = plt.subplots(2, 2, figsize=(8, 8))\n",
    "    plt.subplots_adjust(left=0.1, bottom=0.1, right=0.9, top=0.9, wspace=0.4,hspace=0.4)\n",
    "    for i in range(4):\n",
    "        axs[i//2, i % 2].plot(t, output[i], linewidth=4)\n",
    "        # axs[i//2, i % 2].scatter(t[-1], x1[i], color='r', linewidth=4, label='goal')\n",
    "        axs[i//2, i % 2].set_title(f'x_{i} = x_{i}(t)', fontsize=12)\n",
    "        axs[i//2, i % 2].set_xlabel(f\"t, [c]\", fontsize=12)\n",
    "        axs[i//2, i % 2].grid(True)\n",
    "        axs[i//2, i % 2].legend()\n",
    "        \n",
    "        \n",
    "    # axs[1, 1].plot(t, np.array(U).reshape(-1), linewidth=4)\n",
    "    # axs[1, 1].set_title(f'u = u(t)', fontsize=12)\n",
    "    # axs[1, 1].set_xlabel(f\"t, [c]\", fontsize=12)\n",
    "    # axs[1, 1].grid(True)"
   ]
  },
  {
   "cell_type": "code",
   "execution_count": 14,
   "metadata": {},
   "outputs": [],
   "source": [
    "A = np.array([\n",
    "    [-5, 0, 0, 0],\n",
    "    [0, 0, 0, 0],\n",
    "    [0, 0, 2, 6],\n",
    "    [0, 0, -6, 2],\n",
    "])\n",
    "B = np.array([\n",
    "    [0],\n",
    "    [1],\n",
    "    [0],\n",
    "    [3]\n",
    "])"
   ]
  },
  {
   "cell_type": "code",
   "execution_count": 15,
   "metadata": {},
   "outputs": [
    {
     "data": {
      "text/plain": [
       "array([ True,  True, False,  True])"
      ]
     },
     "execution_count": 15,
     "metadata": {},
     "output_type": "execute_result"
    }
   ],
   "source": [
    "check_eigenvalues_controllable(A, B)"
   ]
  },
  {
   "cell_type": "code",
   "execution_count": 16,
   "metadata": {},
   "outputs": [
    {
     "data": {
      "text/plain": [
       "array([ 2.+6.j,  2.-6.j, -5.+0.j,  0.+0.j])"
      ]
     },
     "execution_count": 16,
     "metadata": {},
     "output_type": "execute_result"
    }
   ],
   "source": [
    "np.linalg.eig(A)[0]"
   ]
  }
 ],
 "metadata": {
  "kernelspec": {
   "display_name": "control-theory",
   "language": "python",
   "name": "python3"
  },
  "language_info": {
   "codemirror_mode": {
    "name": "ipython",
    "version": 3
   },
   "file_extension": ".py",
   "mimetype": "text/x-python",
   "name": "python",
   "nbconvert_exporter": "python",
   "pygments_lexer": "ipython3",
   "version": "3.10.13"
  }
 },
 "nbformat": 4,
 "nbformat_minor": 2
}
