{
 "cells": [
  {
   "cell_type": "code",
   "execution_count": 34,
   "metadata": {},
   "outputs": [],
   "source": [
    "import matplotlib.pyplot as plt\n",
    "import scipy\n",
    "import sympy\n",
    "import numpy as np\n",
    "import control \n",
    "import os\n",
    "import array_to_latex as a2l\n",
    "from LatexGapFiller import LatexGapFiller, TextSheet"
   ]
  },
  {
   "cell_type": "markdown",
   "metadata": {},
   "source": [
    "# Task 1"
   ]
  },
  {
   "cell_type": "code",
   "execution_count": 11,
   "metadata": {},
   "outputs": [],
   "source": [
    "def check_eigenvalues_controllable(A, B) -> np.array:\n",
    "    assert len(A.shape) == 2\n",
    "    assert A.shape[0] == A.shape[1]\n",
    "    assert A.shape[0] == B.shape[0]\n",
    "    \n",
    "    n = A.shape[0]\n",
    "    is_controllable = []\n",
    "\n",
    "  \n",
    "    eigen_values, _ = np.linalg.eig(A)\n",
    "    for eigen_value in eigen_values:\n",
    "        M = np.concatenate((A - eigen_value * np.eye(n), B.reshape(-1, 1)), axis=1)\n",
    "        is_controllable.append(np.linalg.matrix_rank(M) == n)\n",
    "\n",
    "    return np.array(is_controllable)"
   ]
  },
  {
   "cell_type": "code",
   "execution_count": 12,
   "metadata": {},
   "outputs": [],
   "source": [
    "def get_observation_matrix(A, C):\n",
    "    assert len(A.shape) == 2\n",
    "    assert A.shape[0] == A.shape[1]\n",
    "    assert A.shape[0] == C.shape[1]\n",
    "\n",
    "    n = A.shape[0]\n",
    "    U = np.zeros((0, n))\n",
    "    for i in range(n):\n",
    "        new_column = (C @ np.linalg.matrix_power(A, i))\n",
    "        U = np.concatenate((U, new_column))\n",
    "\n",
    "    return U\n",
    "    "
   ]
  },
  {
   "cell_type": "code",
   "execution_count": 13,
   "metadata": {},
   "outputs": [],
   "source": [
    "def check_system_observable(A, C, method = 'rank_criteria'):\n",
    "    assert len(A.shape) == 2\n",
    "    assert A.shape[0] == A.shape[1]\n",
    "    assert A.shape[0] == C.shape[1]\n",
    "    \n",
    "    is_observable = None\n",
    "    n = A.shape[0]\n",
    "    if method == 'rank_criteria':\n",
    "        V = get_observation_matrix(A, C)\n",
    "        is_observable = np.linalg.matrix_rank(V) == n\n",
    "    else:\n",
    "        raise NotImplementedError\n",
    "    \n",
    "    return is_observable"
   ]
  },
  {
   "cell_type": "code",
   "execution_count": 14,
   "metadata": {},
   "outputs": [],
   "source": [
    "def create_g_matrix(eigvalues):\n",
    "    \n",
    "    return np.diag(eigvalues)"
   ]
  },
  {
   "cell_type": "code",
   "execution_count": 15,
   "metadata": {},
   "outputs": [],
   "source": [
    "def modeling(A, B, K):\n",
    "    ss = control.ss((A + B @ K), B*0, A * 0, B * 0)\n",
    "\n",
    "    time = np.linspace(0, 3, 1000)\n",
    "    output = control.forced_response(ss, X0=[1, 1, 1, 1], T=time).states\n",
    "\n",
    "    fig, axs = plt.subplots(2, 2, figsize=(8, 8))\n",
    "    plt.subplots_adjust(left=0.1, bottom=0.1, right=0.9, top=0.9, wspace=0.4,hspace=0.4)\n",
    "    for i in range(4):\n",
    "        axs[i//2, i % 2].plot(time, output[i], linewidth=4)\n",
    "        # axs[i//2, i % 2].scatter(t[-1], x1[i], color='r', linewidth=4, label='goal')\n",
    "        axs[i//2, i % 2].set_title(f'x_{i} = x_{i}(t)', fontsize=12)\n",
    "        axs[i//2, i % 2].set_xlabel(f\"t, [c]\", fontsize=12)\n",
    "        axs[i//2, i % 2].grid(True)\n",
    "        axs[i//2, i % 2].legend()\n",
    "        \n",
    "        \n",
    "    # axs[1, 1].plot(t, np.array(U).reshape(-1), linewidth=4)\n",
    "    # axs[1, 1].set_title(f'u = u(t)', fontsize=12)\n",
    "    # axs[1, 1].set_xlabel(f\"t, [c]\", fontsize=12)\n",
    "    # axs[1, 1].grid(True)"
   ]
  },
  {
   "cell_type": "code",
   "execution_count": 36,
   "metadata": {},
   "outputs": [],
   "source": [
    "gap_filler = LatexGapFiller()\n",
    "A = np.array([\n",
    "    [-5, 0, 0, 0],\n",
    "    [0, 0, 0, 0],\n",
    "    [0, 0, 2, 6],\n",
    "    [0, 0, -6, 2],\n",
    "])\n",
    "B = np.array([\n",
    "    [0],\n",
    "    [1],\n",
    "    [0],\n",
    "    [3]\n",
    "])\n"
   ]
  },
  {
   "cell_type": "code",
   "execution_count": 35,
   "metadata": {},
   "outputs": [
    {
     "name": "stdout",
     "output_type": "stream",
     "text": [
      "{A} 0\n"
     ]
    },
    {
     "ename": "NameError",
     "evalue": "name 'gap_filler' is not defined",
     "output_type": "error",
     "traceback": [
      "\u001b[0;31m---------------------------------------------------------------------------\u001b[0m",
      "\u001b[0;31mNameError\u001b[0m                                 Traceback (most recent call last)",
      "Cell \u001b[0;32mIn[35], line 7\u001b[0m\n\u001b[1;32m      5\u001b[0m text \u001b[38;5;241m=\u001b[39m TextSheet(\u001b[38;5;241m0\u001b[39m, data)\n\u001b[1;32m      6\u001b[0m text\u001b[38;5;241m.\u001b[39mfill_gap({\u001b[38;5;124m\"\u001b[39m\u001b[38;5;124mA\u001b[39m\u001b[38;5;124m\"\u001b[39m: \u001b[38;5;124mf\u001b[39m\u001b[38;5;124m\"\u001b[39m\u001b[38;5;132;01m{\u001b[39;00mi\u001b[38;5;132;01m}\u001b[39;00m\u001b[38;5;124m\"\u001b[39m})\n\u001b[0;32m----> 7\u001b[0m \u001b[43mgap_filler\u001b[49m\u001b[38;5;241m.\u001b[39madd_sheet(text)\n",
      "\u001b[0;31mNameError\u001b[0m: name 'gap_filler' is not defined"
     ]
    }
   ],
   "source": [
    "with open('./task1.txt', 'r') as file:\n",
    "        data = file.read()\n",
    "\n",
    "text = TextSheet(0, data)\n",
    "text.fill_gap({\"A\": f\"{i}\"})\n",
    "gap_filler.add_sheet(text)"
   ]
  },
  {
   "cell_type": "code",
   "execution_count": 21,
   "metadata": {},
   "outputs": [
    {
     "data": {
      "text/plain": [
       "array([ True,  True, False,  True])"
      ]
     },
     "execution_count": 21,
     "metadata": {},
     "output_type": "execute_result"
    }
   ],
   "source": [
    "check_eigenvalues_controllable(A, B)"
   ]
  },
  {
   "cell_type": "code",
   "execution_count": 22,
   "metadata": {},
   "outputs": [
    {
     "data": {
      "text/plain": [
       "array([ 2.+6.j,  2.-6.j, -5.+0.j,  0.+0.j])"
      ]
     },
     "execution_count": 22,
     "metadata": {},
     "output_type": "execute_result"
    }
   ],
   "source": [
    "np.linalg.eig(A)[0]"
   ]
  },
  {
   "cell_type": "code",
   "execution_count": 23,
   "metadata": {},
   "outputs": [
    {
     "data": {
      "text/plain": [
       "array([[-5,  1,  0,  0],\n",
       "       [ 0, -5,  1,  0],\n",
       "       [ 0,  0, -5,  1],\n",
       "       [ 0,  0,  0, -5]])"
      ]
     },
     "execution_count": 23,
     "metadata": {},
     "output_type": "execute_result"
    }
   ],
   "source": [
    "desired_eigvalues = [-5, -5, -5, -5]\n",
    "G = create_g_matrix(desired_eigvalues)\n",
    "G[0, 1] = 1\n",
    "G[1, 2] = 1\n",
    "G[2, 3] = 1\n",
    "G"
   ]
  },
  {
   "cell_type": "code",
   "execution_count": 24,
   "metadata": {},
   "outputs": [
    {
     "data": {
      "text/plain": [
       "array([-5., -5., -5., -5.])"
      ]
     },
     "execution_count": 24,
     "metadata": {},
     "output_type": "execute_result"
    }
   ],
   "source": [
    "np.linalg.eig(G)[0]"
   ]
  },
  {
   "cell_type": "code",
   "execution_count": 25,
   "metadata": {},
   "outputs": [],
   "source": [
    "Y = np.array([[0, 1, 0, 0]])"
   ]
  },
  {
   "cell_type": "code",
   "execution_count": 26,
   "metadata": {},
   "outputs": [
    {
     "data": {
      "text/plain": [
       "False"
      ]
     },
     "execution_count": 26,
     "metadata": {},
     "output_type": "execute_result"
    }
   ],
   "source": [
    "check_system_observable(G, Y)"
   ]
  },
  {
   "cell_type": "code",
   "execution_count": 27,
   "metadata": {},
   "outputs": [
    {
     "data": {
      "text/plain": [
       "array([[ 0.        ,  0.        ,  0.        ,  0.        ],\n",
       "       [ 0.        ,  0.2       ,  0.04      ,  0.008     ],\n",
       "       [ 0.        , -0.21176471, -0.03487889, -0.00325341],\n",
       "       [ 0.        ,  0.24705882,  0.00539792, -0.0020175 ]])"
      ]
     },
     "execution_count": 27,
     "metadata": {},
     "output_type": "execute_result"
    }
   ],
   "source": [
    "P = scipy.linalg.solve_sylvester(A, -G, B@Y)\n",
    "P"
   ]
  },
  {
   "cell_type": "code",
   "execution_count": 28,
   "metadata": {},
   "outputs": [
    {
     "data": {
      "text/plain": [
       "array([[ 0.        , -3.125     , -4.40277778, -5.29166667]])"
      ]
     },
     "execution_count": 28,
     "metadata": {},
     "output_type": "execute_result"
    }
   ],
   "source": [
    "K = -Y @ np.linalg.pinv(P)\n",
    "K"
   ]
  },
  {
   "cell_type": "code",
   "execution_count": 29,
   "metadata": {},
   "outputs": [
    {
     "data": {
      "text/plain": [
       "array([-5.00003305+5.72532191e-05j, -5.00003305-5.72532191e-05j,\n",
       "       -4.99993389+0.00000000e+00j, -5.        +0.00000000e+00j])"
      ]
     },
     "execution_count": 29,
     "metadata": {},
     "output_type": "execute_result"
    }
   ],
   "source": [
    "np.linalg.eig(A+B@K)[0]"
   ]
  },
  {
   "cell_type": "code",
   "execution_count": 30,
   "metadata": {},
   "outputs": [
    {
     "name": "stderr",
     "output_type": "stream",
     "text": [
      "No artists with labels found to put in legend.  Note that artists whose label start with an underscore are ignored when legend() is called with no argument.\n",
      "No artists with labels found to put in legend.  Note that artists whose label start with an underscore are ignored when legend() is called with no argument.\n",
      "No artists with labels found to put in legend.  Note that artists whose label start with an underscore are ignored when legend() is called with no argument.\n",
      "No artists with labels found to put in legend.  Note that artists whose label start with an underscore are ignored when legend() is called with no argument.\n"
     ]
    },
    {
     "data": {
      "image/png": "[encoded data removed]",
      "text/plain": [
       "<Figure size 800x800 with 4 Axes>"
      ]
     },
     "metadata": {},
     "output_type": "display_data"
    }
   ],
   "source": [
    "modeling(A, B, K)"
   ]
  }
 ],
 "metadata": {
  "kernelspec": {
   "display_name": "control-theory",
   "language": "python",
   "name": "python3"
  },
  "language_info": {
   "codemirror_mode": {
    "name": "ipython",
    "version": 3
   },
   "file_extension": ".py",
   "mimetype": "text/x-python",
   "name": "python",
   "nbconvert_exporter": "python",
   "pygments_lexer": "ipython3",
   "version": "3.1.0"
  }
 },
 "nbformat": 4,
 "nbformat_minor": 2
}
