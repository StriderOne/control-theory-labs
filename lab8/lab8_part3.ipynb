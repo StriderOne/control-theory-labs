{
 "cells": [
  {
   "cell_type": "code",
   "execution_count": 241,
   "metadata": {},
   "outputs": [],
   "source": [
    "import matplotlib.pyplot as plt\n",
    "import scipy\n",
    "import sympy\n",
    "import numpy as np\n",
    "import control \n",
    "import os\n",
    "import array_to_latex as a2l\n",
    "from LatexGapFiller import LatexGapFiller, TextSheet\n",
    "from ControlTheoryToolbox import System, CToolbox\n",
    "import cvxpy"
   ]
  },
  {
   "cell_type": "code",
   "execution_count": 242,
   "metadata": {},
   "outputs": [],
   "source": [
    "def task1_get_G(specs):\n",
    "    new_g = np.diag(specs)\n",
    "    for i in range(1, new_g.shape[0]):\n",
    "        if new_g[i, i] == new_g[i-1, i-1]:\n",
    "            new_g[i-1, i] = 1\n",
    "    if specs[2].imag != 0:\n",
    "        new_g[2, 2] = specs[2].real\n",
    "        new_g[3, 3] = specs[2].real\n",
    "        new_g[2, 3] = specs[2].imag\n",
    "        new_g[3, 2] = -specs[2].imag\n",
    "    return new_g"
   ]
  },
  {
   "cell_type": "code",
   "execution_count": 243,
   "metadata": {},
   "outputs": [],
   "source": [
    "def task2_get_L(A, C, G, Y):\n",
    "    Q = cvxpy.Variable(A.shape)\n",
    "    objective = cvxpy.Minimize(cvxpy.sum_squares(G @ Q - Q @ A - Y @ C))\n",
    "    prob = cvxpy.Problem(objective)\n",
    "    print(f'Optimization error: {prob.solve()}, rankP = {np.linalg.matrix_rank(Q.value)}')\n",
    "    return np.linalg.pinv(Q.value) @ Y, Q.value"
   ]
  },
  {
   "cell_type": "code",
   "execution_count": 244,
   "metadata": {},
   "outputs": [],
   "source": [
    "def task1_get_K(A, B, G, Y):\n",
    "    P= cvxpy.Variable(A.shape)\n",
    "    objective = cvxpy.Minimize(cvxpy.sum_squares(A @ P - P @ G - B @ Y))\n",
    "    prob = cvxpy.Problem(objective)\n",
    "    print(f'Optimization error: {prob.solve()}, rankP = {np.linalg.matrix_rank(P.value)}')\n",
    "    return - Y @ np.linalg.pinv(P.value), P.value"
   ]
  },
  {
   "cell_type": "code",
   "execution_count": 245,
   "metadata": {},
   "outputs": [
    {
     "name": "stdout",
     "output_type": "stream",
     "text": [
      "\\begin{bmatrix}\n",
      "   3  & -3  & -5  &   7 \\\\\n",
      " -3  &   3  & -7  &   5 \\\\\n",
      " -5  & -7  &   3  &   3 \\\\\n",
      "   7  &   5  &   3  &   3 \n",
      "\\end{bmatrix}\n",
      "\\begin{bmatrix}\n",
      "  16 \\\\\n",
      "  12 \\\\\n",
      "  12 \\\\\n",
      "  12 \n",
      "\\end{bmatrix}\n",
      "\\begin{bmatrix}\n",
      "   3  & -1  &   1  &   3 \\\\\n",
      " -2  &   2  &   2  &   2 \n",
      "\\end{bmatrix}\n"
     ]
    }
   ],
   "source": [
    "A = np.array([\n",
    "    [3, -3, -5, 7],\n",
    "    [-3, 3, -7, 5],\n",
    "    [-5, -7, 3, 3],\n",
    "    [7, 5, 3, 3],\n",
    "])\n",
    "B = np.array([\n",
    "    [16],\n",
    "    [12],\n",
    "    [12],\n",
    "    [12]\n",
    "])\n",
    "C = np.array([\n",
    "    [3, -1, 1, 3],\n",
    "    [-2, 2, 2, 2]\n",
    "])\n",
    "x0 = np.array([\n",
    "    [10],\n",
    "    [-10],\n",
    "    [-10],\n",
    "    [10]\n",
    "])\n",
    "xh0 = np.array([\n",
    "    [2],\n",
    "    [-2],\n",
    "    [2],\n",
    "    [-1]\n",
    "])\n",
    "print(a2l.to_ltx(A, frmt = '{:2}', arraytype = 'bmatrix', print_out=False))\n",
    "print(a2l.to_ltx(B, frmt = '{:2}', arraytype = 'bmatrix', print_out=False))\n",
    "print(a2l.to_ltx(C, frmt = '{:2}', arraytype = 'bmatrix', print_out=False))"
   ]
  },
  {
   "cell_type": "code",
   "execution_count": 246,
   "metadata": {},
   "outputs": [
    {
     "data": {
      "text/plain": [
       "array([-12.,   4.,  12.,   8.])"
      ]
     },
     "execution_count": 246,
     "metadata": {},
     "output_type": "execute_result"
    }
   ],
   "source": [
    "np.linalg.eig(A)[0]"
   ]
  },
  {
   "cell_type": "code",
   "execution_count": 247,
   "metadata": {},
   "outputs": [
    {
     "name": "stdout",
     "output_type": "stream",
     "text": [
      "[ True  True  True  True]\n",
      "[False  True  True  True]\n"
     ]
    }
   ],
   "source": [
    "print(CToolbox.check_eigenvalues_controllable(A, B))\n",
    "print(CToolbox.check_eigenvalues_observable(A, C))"
   ]
  },
  {
   "cell_type": "code",
   "execution_count": 248,
   "metadata": {},
   "outputs": [
    {
     "data": {
      "text/plain": [
       "(array([[-5,  1,  0,  0],\n",
       "        [ 0, -5,  1,  0],\n",
       "        [ 0,  0, -5,  1],\n",
       "        [ 0,  0,  0, -5]]),\n",
       " array([[1, 0, 0, 0]]))"
      ]
     },
     "execution_count": 248,
     "metadata": {},
     "output_type": "execute_result"
    }
   ],
   "source": [
    "des_eigvalues = [-5, -5, -5, -5]\n",
    "G = task1_get_G(des_eigvalues)\n",
    "Y = np.array([[1, 0, 0, 0]])\n",
    "G, Y"
   ]
  },
  {
   "cell_type": "code",
   "execution_count": 249,
   "metadata": {},
   "outputs": [
    {
     "name": "stdout",
     "output_type": "stream",
     "text": [
      "\\begin{bmatrix}\n",
      " -5  &   1  &   0  &   0 \\\\\n",
      "   0  & -5  &   1  &   0 \\\\\n",
      "   0  &   0  & -5  &   1 \\\\\n",
      "   0  &   0  &   0  & -5 \n",
      "\\end{bmatrix}\n",
      "\\begin{bmatrix}\n",
      "   1  &   0  &   0  &   0 \n",
      "\\end{bmatrix}\n"
     ]
    }
   ],
   "source": [
    "print(a2l.to_ltx(G.astype(int), frmt = '{:2}', arraytype = 'bmatrix', print_out=False))\n",
    "print(a2l.to_ltx(Y, frmt = '{:2}', arraytype = 'bmatrix', print_out=False))"
   ]
  },
  {
   "cell_type": "code",
   "execution_count": 250,
   "metadata": {},
   "outputs": [
    {
     "name": "stdout",
     "output_type": "stream",
     "text": [
      "Optimization error: 2.2187591664878084e-29, rankP = 4\n"
     ]
    },
    {
     "data": {
      "text/plain": [
       "(array([[-0.04447545, -7.70114397,  6.44202939, -1.34825149]]),\n",
       " array([[-6.05329311e-01,  1.46770319e-01, -2.26559195e-02,\n",
       "          2.48227366e-03],\n",
       "        [-5.71141277e-01,  1.87386873e-01, -1.53108243e-02,\n",
       "          3.51625265e-03],\n",
       "        [-3.17747612e-01,  2.21784203e-01, -1.17880811e-02,\n",
       "          3.83880905e-03],\n",
       "        [ 2.50578180e+00, -1.54871762e-02,  3.18778281e-02,\n",
       "         -1.82447223e-03]]))"
      ]
     },
     "execution_count": 250,
     "metadata": {},
     "output_type": "execute_result"
    }
   ],
   "source": [
    "K, P =task1_get_K(A, B, G, Y)\n",
    "K, P"
   ]
  },
  {
   "cell_type": "code",
   "execution_count": 251,
   "metadata": {},
   "outputs": [
    {
     "data": {
      "text/plain": [
       "array([-5.00261545+0.j        , -4.99999838+0.00261383j,\n",
       "       -4.99999838-0.00261383j, -4.99738779+0.j        ])"
      ]
     },
     "execution_count": 251,
     "metadata": {},
     "output_type": "execute_result"
    }
   ],
   "source": [
    "np.linalg.eig(A+B@K)[0]"
   ]
  },
  {
   "cell_type": "code",
   "execution_count": 252,
   "metadata": {},
   "outputs": [],
   "source": [
    "def modeling(A, B, K, time_end = 3):\n",
    "    ss = control.ss((A + B @ K), B*0, A * 0, B * 0)\n",
    "\n",
    "    time = np.linspace(0, time_end, 1000)\n",
    "    output = control.forced_response(ss, X0=[1, 1, 1, 1], T=time).states\n",
    "\n",
    "    fig, axs = plt.subplots(1, 2, figsize=(8, 4))\n",
    "    plt.subplots_adjust(left=0.1, bottom=0.1, right=0.9, top=0.9, wspace=0.4,hspace=0.4)\n",
    "    colors = ['blue', 'r', 'green', 'orange']\n",
    "    for i in range(4):\n",
    "        axs[0].plot(time, output[i], linewidth=3, label=f\"x_{i}(t)\", color=colors[-i])\n",
    "        # axs[i//2, i % 2].scatter(t[-1], x1[i], color='r', linewidth=4, label='goal')\n",
    "    axs[0].set_title(f'x(t)', fontsize=12)\n",
    "    axs[0].set_xlabel(f\"t, [c]\", fontsize=12)\n",
    "    axs[0].grid(True)\n",
    "    axs[0].legend()\n",
    "    \n",
    "    axs[1].plot(time, (K @ output).reshape(-1), linewidth=3, label=f\"u(t)\", color='r')\n",
    "    axs[1].set_title(f'u(t)', fontsize=12)\n",
    "    axs[1].set_xlabel(f\"t, [c]\", fontsize=12)\n",
    "    axs[1].grid(True)\n",
    "    axs[1].legend()\n",
    "\n",
    "    # axs[1, 1].plot(t, np.array(U).reshape(-1), linewidth=4)\n",
    "    # axs[1, 1].set_title(f'u = u(t)', fontsize=12)\n",
    "    # axs[1, 1].set_xlabel(f\"t, [c]\", fontsize=12)\n",
    "    # axs[1, 1].grid(True)"
   ]
  },
  {
   "cell_type": "code",
   "execution_count": 253,
   "metadata": {},
   "outputs": [
    {
     "name": "stdout",
     "output_type": "stream",
     "text": [
      "\\begin{bmatrix}\n",
      " -0.04 & -7.70 &  6.44 & -1.35\n",
      "\\end{bmatrix}\n"
     ]
    }
   ],
   "source": [
    "print(a2l.to_ltx(K, frmt = '{:2.2f}', arraytype = 'bmatrix', print_out=False))"
   ]
  },
  {
   "cell_type": "code",
   "execution_count": 254,
   "metadata": {},
   "outputs": [
    {
     "data": {
      "image/png": "[encoded data removed]",
      "text/plain": [
       "<Figure size 800x400 with 2 Axes>"
      ]
     },
     "metadata": {},
     "output_type": "display_data"
    }
   ],
   "source": [
    "modeling(A, B, K)"
   ]
  },
  {
   "cell_type": "code",
   "execution_count": 255,
   "metadata": {},
   "outputs": [],
   "source": [
    "def task2_simulate(A, C, L, x0, xh0, time_end):\n",
    "    ts = np.linspace(0, time_end, 1000)\n",
    "    ss_orig = control.ss(A, np.zeros((A.shape[0], 1)), C, np.zeros((C.shape[0], 1)))\n",
    "    original_resp = control.forced_response(ss_orig, X0=x0, T=ts)\n",
    "    ss = control.ss(A + L@C, -L, A*0, L*0)\n",
    "    return ts, original_resp, control.forced_response(ss, X0=xh0, T=ts, U=original_resp.outputs.reshape(-1))"
   ]
  },
  {
   "cell_type": "code",
   "execution_count": 256,
   "metadata": {},
   "outputs": [
    {
     "name": "stdout",
     "output_type": "stream",
     "text": [
      "\\begin{bmatrix}\n",
      " -12  & -5  & -5  & -5 \n",
      "\\end{bmatrix}\n"
     ]
    },
    {
     "data": {
      "text/plain": [
       "(array([[-12,   0,   0,   0],\n",
       "        [  0,  -5,   1,   0],\n",
       "        [  0,   0,  -5,   1],\n",
       "        [  0,   0,   0,  -5]]),\n",
       " array([[0, 0],\n",
       "        [0, 0],\n",
       "        [0, 0],\n",
       "        [1, 1]]))"
      ]
     },
     "execution_count": 256,
     "metadata": {},
     "output_type": "execute_result"
    }
   ],
   "source": [
    "desired_eigvalues = [-12, -5, -5, -5]\n",
    "print(a2l.to_ltx(np.array(desired_eigvalues), frmt = '{:2}', arraytype = 'bmatrix', print_out=False))\n",
    "G = task1_get_G(desired_eigvalues)\n",
    "Y = np.array([\n",
    "    [0, 0],\n",
    "    [0, 0],\n",
    "    [0, 0],\n",
    "    [1, 1]\n",
    "])\n",
    "G, Y"
   ]
  },
  {
   "cell_type": "code",
   "execution_count": 257,
   "metadata": {},
   "outputs": [
    {
     "data": {
      "text/plain": [
       "array([-12.,  -5.,  -5.,  -5.])"
      ]
     },
     "execution_count": 257,
     "metadata": {},
     "output_type": "execute_result"
    }
   ],
   "source": [
    "np.linalg.eig(G)[0]"
   ]
  },
  {
   "cell_type": "code",
   "execution_count": 258,
   "metadata": {},
   "outputs": [
    {
     "name": "stdout",
     "output_type": "stream",
     "text": [
      "jordan_form  [0 0 0 1 0 0 0 1]\n"
     ]
    },
    {
     "data": {
      "text/plain": [
       "array([False,  True])"
      ]
     },
     "execution_count": 258,
     "metadata": {},
     "output_type": "execute_result"
    }
   ],
   "source": [
    "CToolbox.check_eigenvalues_controllable(G, Y, method='jordan_form')"
   ]
  },
  {
   "cell_type": "code",
   "execution_count": 259,
   "metadata": {},
   "outputs": [
    {
     "name": "stdout",
     "output_type": "stream",
     "text": [
      "\\begin{bmatrix}\n",
      " -12  &   0  &   0  &   0 \\\\\n",
      "   0  & -5  &   1  &   0 \\\\\n",
      "   0  &   0  & -5  &   1 \\\\\n",
      "   0  &   0  &   0  & -5 \n",
      "\\end{bmatrix}\n",
      "\\begin{bmatrix}\n",
      "   0  &   0 \\\\\n",
      "   0  &   0 \\\\\n",
      "   0  &   0 \\\\\n",
      "   1  &   1 \n",
      "\\end{bmatrix}\n"
     ]
    }
   ],
   "source": [
    "print(a2l.to_ltx(G.astype(int), frmt = '{:2}', arraytype = 'bmatrix', print_out=False))\n",
    "print(a2l.to_ltx(Y, frmt = '{:2}', arraytype = 'bmatrix', print_out=False))"
   ]
  },
  {
   "cell_type": "code",
   "execution_count": 260,
   "metadata": {},
   "outputs": [
    {
     "name": "stdout",
     "output_type": "stream",
     "text": [
      "Optimization error: 1.0846013660347856e-31, rankP = 3\n"
     ]
    },
    {
     "data": {
      "text/plain": [
       "array([[-18.37109375, -18.37109375],\n",
       "       [-58.39453125, -58.39453125],\n",
       "       [ 52.69921875,  52.69921875],\n",
       "       [-24.06640625, -24.06640625]])"
      ]
     },
     "execution_count": 260,
     "metadata": {},
     "output_type": "execute_result"
    }
   ],
   "source": [
    "L, Q = task2_get_L(A, C, G, Y)\n",
    "L"
   ]
  },
  {
   "cell_type": "code",
   "execution_count": 261,
   "metadata": {},
   "outputs": [
    {
     "name": "stdout",
     "output_type": "stream",
     "text": [
      "\\begin{bmatrix}\n",
      " -18.37 & -18.37\\\\\n",
      " -58.39 & -58.39\\\\\n",
      "  52.70 &  52.70\\\\\n",
      " -24.07 & -24.07\n",
      "\\end{bmatrix}\n"
     ]
    }
   ],
   "source": [
    "print(a2l.to_ltx(L, frmt = '{:2.2f}', arraytype = 'bmatrix', print_out=False))"
   ]
  },
  {
   "cell_type": "code",
   "execution_count": 262,
   "metadata": {},
   "outputs": [
    {
     "data": {
      "text/plain": [
       "array([-12.        +0.j        ,  -4.99988413+0.00020071j,\n",
       "        -4.99988413-0.00020071j,  -5.00023173+0.j        ])"
      ]
     },
     "execution_count": 262,
     "metadata": {},
     "output_type": "execute_result"
    }
   ],
   "source": [
    "np.linalg.eig(A+L@C)[0]"
   ]
  },
  {
   "cell_type": "code",
   "execution_count": 263,
   "metadata": {},
   "outputs": [
    {
     "data": {
      "text/plain": [
       "array([[   3.        ,   -3.        ,   -5.        ,    7.        ,\n",
       "          -0.71160714, -123.21830357,  103.07247024,  -21.57202381],\n",
       "       [  -3.        ,    3.        ,   -7.        ,    5.        ,\n",
       "          -0.53370536,  -92.41372768,   77.30435268,  -16.17901786],\n",
       "       [  -5.        ,   -7.        ,    3.        ,    3.        ,\n",
       "          -0.53370536,  -92.41372768,   77.30435268,  -16.17901786],\n",
       "       [   7.        ,    5.        ,    3.        ,    3.        ,\n",
       "          -0.53370536,  -92.41372768,   77.30435268,  -16.17901786],\n",
       "       [  18.37109375,   18.37109375,   55.11328125,   91.85546875,\n",
       "         -16.08270089, -144.58939732,   42.95918899, -106.42749256],\n",
       "       [  58.39453125,   58.39453125,  175.18359375,  291.97265625,\n",
       "         -61.92823661, -147.80825893, -104.87924107, -303.15167411],\n",
       "       [ -52.69921875,  -52.69921875, -158.09765625, -263.49609375,\n",
       "          47.16551339,  -46.71450893,  238.40200893,  250.31707589],\n",
       "       [  24.06640625,   24.06640625,   72.19921875,  120.33203125,\n",
       "         -17.60011161, -111.48013393,    8.10513393, -133.51104911]])"
      ]
     },
     "execution_count": 263,
     "metadata": {},
     "output_type": "execute_result"
    }
   ],
   "source": [
    "task3_new_A = np.block([[A, B @ K],[-L@C, A+B@K+L@C]])\n",
    "task3_new_A"
   ]
  },
  {
   "cell_type": "code",
   "execution_count": 264,
   "metadata": {},
   "outputs": [
    {
     "data": {
      "text/plain": [
       "array([[ 10],\n",
       "       [-10],\n",
       "       [-10],\n",
       "       [ 10],\n",
       "       [  2],\n",
       "       [ -2],\n",
       "       [  2],\n",
       "       [ -1]])"
      ]
     },
     "execution_count": 264,
     "metadata": {},
     "output_type": "execute_result"
    }
   ],
   "source": [
    "np.concatenate((x0, xh0), axis=0)"
   ]
  },
  {
   "cell_type": "code",
   "execution_count": 265,
   "metadata": {},
   "outputs": [
    {
     "data": {
      "text/plain": [
       "array([[ 3, -1,  1,  3,  3, -1,  1,  3],\n",
       "       [-2,  2,  2,  2, -2,  2,  2,  2]])"
      ]
     },
     "execution_count": 265,
     "metadata": {},
     "output_type": "execute_result"
    }
   ],
   "source": [
    "np.concatenate((C, C), axis=1)"
   ]
  },
  {
   "cell_type": "code",
   "execution_count": 266,
   "metadata": {},
   "outputs": [],
   "source": [
    "def task2_simulate(A, B, C, K, L, x0, xh0, time_end):\n",
    "    ts = np.linspace(0, time_end, 1000)\n",
    "    new_A = np.block([[A, B @ K],[-L@C, A+B@K+L@C]])\n",
    "    new_C = np.block([\n",
    "        [C, np.zeros_like(C)],\n",
    "        [np.zeros_like(C), C]\n",
    "    ])\n",
    "    ss = control.ss(new_A, np.zeros((new_A.shape[0], 1)), new_C, np.zeros((new_C.shape[0], 1)))\n",
    "    original_resp = control.forced_response(ss, X0=np.concatenate((x0, xh0), axis=0), T=ts)\n",
    "    # ss = control.ss(A + B@K + L@C, -L, C, np.zeros((C.shape[0], L.shape[1])))\n",
    "    # print()\n",
    "    return ts, original_resp"
   ]
  },
  {
   "cell_type": "code",
   "execution_count": 267,
   "metadata": {},
   "outputs": [],
   "source": [
    "ts, res = task2_simulate(A, B, C, K, L, x0, xh0, 10.0)"
   ]
  },
  {
   "cell_type": "code",
   "execution_count": 268,
   "metadata": {},
   "outputs": [
    {
     "data": {
      "text/plain": [
       "array([[ 2.95456473e+01, -1.03714570e+02, -1.84060458e+02,\n",
       "        -2.20981698e+02, -2.22980307e+02, -1.97628246e+02,\n",
       "        -1.51625542e+02, -9.08582927e+01, -2.04560239e+01,\n",
       "         5.51520259e+01,  1.32182069e+02,  2.07442659e+02,\n",
       "         2.78283551e+02,  3.42546690e+02,  3.98519487e+02,\n",
       "         4.44890442e+02,  4.80707202e+02,  5.05337052e+02,\n",
       "         5.18429866e+02,  5.19883484e+02,  5.09811477e+02,\n",
       "         4.88513257e+02,  4.56446455e+02,  4.14201504e+02,\n",
       "         3.62478339e+02,  3.02065117e+02,  2.33818885e+02,\n",
       "         1.58648078e+02,  7.74967680e+01, -8.66945061e+00,\n",
       "        -9.88760224e+01, -1.92150546e+02, -2.87532534e+02,\n",
       "        -3.84081910e+02, -4.80886340e+02, -5.77067475e+02,\n",
       "        -6.71786198e+02, -7.64246959e+02, -8.53701260e+02,\n",
       "        -9.39450389e+02, -1.02084744e+03, -1.09729874e+03,\n",
       "        -1.16826466e+03, -1.23325995e+03, -1.29185365e+03,\n",
       "        -1.34366853e+03, -1.38838025e+03, -1.42571620e+03,\n",
       "        -1.45545402e+03, -1.47741997e+03, -1.49148709e+03,\n",
       "        -1.49757315e+03, -1.49563857e+03, -1.48568416e+03,\n",
       "        -1.46774881e+03, -1.44190714e+03, -1.40826714e+03,\n",
       "        -1.36696773e+03, -1.31817639e+03, -1.26208676e+03,\n",
       "        -1.19891633e+03, -1.12890410e+03, -1.05230835e+03,\n",
       "        -9.69404452e+02, -8.80482725e+02, -7.85846416e+02,\n",
       "        -6.85809715e+02, -5.80695871e+02, -4.70835395e+02,\n",
       "        -3.56564347e+02, -2.38222713e+02, -1.16152878e+02,\n",
       "         9.30181520e+00,  1.37798414e+02,  2.68995615e+02,\n",
       "         4.02554930e+02,  5.38141770e+02,  6.75426441e+02,\n",
       "         8.14085051e+02,  9.53800347e+02,  1.09426246e+03,\n",
       "         1.23516958e+03,  1.37622856e+03,  1.51715546e+03,\n",
       "         1.65767597e+03,  1.79752587e+03,  1.93645130e+03,\n",
       "         2.07420911e+03,  2.21056701e+03,  2.34530382e+03,\n",
       "         2.47820953e+03,  2.60908541e+03,  2.73774404e+03,\n",
       "         2.86400930e+03,  2.98771635e+03,  3.10871152e+03,\n",
       "         3.22685223e+03,  3.34200682e+03,  3.45405445e+03,\n",
       "         3.56288484e+03,  3.66839810e+03,  3.77050452e+03,\n",
       "         3.86912428e+03,  3.96418721e+03,  4.05563253e+03,\n",
       "         4.14340853e+03,  4.22747231e+03,  4.30778947e+03,\n",
       "         4.38433376e+03,  4.45708684e+03,  4.52603786e+03,\n",
       "         4.59118325e+03,  4.65252629e+03,  4.71007687e+03,\n",
       "         4.76385113e+03,  4.81387111e+03,  4.86016449e+03,\n",
       "         4.90276426e+03,  4.94170835e+03,  4.97703941e+03,\n",
       "         5.00880443e+03,  5.03705452e+03,  5.06184453e+03,\n",
       "         5.08323287e+03,  5.10128114e+03,  5.11605392e+03,\n",
       "         5.12761848e+03,  5.13604456e+03,  5.14140408e+03,\n",
       "         5.14377092e+03,  5.14322074e+03,  5.13983067e+03,\n",
       "         5.13367917e+03,  5.12484579e+03,  5.11341101e+03,\n",
       "         5.09945600e+03,  5.08306251e+03,  5.06431263e+03,\n",
       "         5.04328869e+03,  5.02007306e+03,  4.99474805e+03,\n",
       "         4.96739573e+03,  4.93809782e+03,  4.90693558e+03,\n",
       "         4.87398967e+03,  4.83934006e+03,  4.80306593e+03,\n",
       "         4.76524557e+03,  4.72595630e+03,  4.68527437e+03,\n",
       "         4.64327494e+03,  4.60003192e+03,  4.55561802e+03,\n",
       "         4.51010459e+03,  4.46356165e+03,  4.41605778e+03,\n",
       "         4.36766014e+03,  4.31843438e+03,  4.26844463e+03,\n",
       "         4.21775350e+03,  4.16642201e+03,  4.11450960e+03,\n",
       "         4.06207411e+03,  4.00917177e+03,  3.95585719e+03,\n",
       "         3.90218333e+03,  3.84820157e+03,  3.79396163e+03,\n",
       "         3.73951161e+03,  3.68489800e+03,  3.63016569e+03,\n",
       "         3.57535798e+03,  3.52051656e+03,  3.46568157e+03,\n",
       "         3.41089161e+03,  3.35618374e+03,  3.30159349e+03,\n",
       "         3.24715494e+03,  3.19290066e+03,  3.13886180e+03,\n",
       "         3.08506808e+03,  3.03154785e+03,  2.97832808e+03,\n",
       "         2.92543438e+03,  2.87289108e+03,  2.82072122e+03,\n",
       "         2.76894658e+03,  2.71758774e+03,  2.66666405e+03,\n",
       "         2.61619373e+03,  2.56619384e+03,  2.51668038e+03,\n",
       "         2.46766824e+03,  2.41917128e+03,  2.37120235e+03,\n",
       "         2.32377333e+03,  2.27689515e+03,  2.23057780e+03,\n",
       "         2.18483041e+03,  2.13966123e+03,  2.09507769e+03,\n",
       "         2.05108641e+03,  2.00769325e+03,  1.96490331e+03,\n",
       "         1.92272099e+03,  1.88114999e+03,  1.84019336e+03,\n",
       "         1.79985350e+03,  1.76013221e+03,  1.72103071e+03,\n",
       "         1.68254964e+03,  1.64468913e+03,  1.60744880e+03,\n",
       "         1.57082777e+03,  1.53482469e+03,  1.49943780e+03,\n",
       "         1.46466488e+03,  1.43050334e+03,  1.39695021e+03,\n",
       "         1.36400215e+03,  1.33165548e+03,  1.29990623e+03,\n",
       "         1.26875010e+03,  1.23818251e+03,  1.20819863e+03,\n",
       "         1.17879337e+03,  1.14996140e+03,  1.12169721e+03,\n",
       "         1.09399504e+03,  1.06684897e+03,  1.04025291e+03,\n",
       "         1.01420061e+03,  9.88685660e+02,  9.63701535e+02,\n",
       "         9.39241580e+02,  9.15299033e+02,  8.91867037e+02,\n",
       "         8.68938645e+02,  8.46506837e+02,  8.24564525e+02,\n",
       "         8.03104566e+02,  7.82119767e+02,  7.61602899e+02,\n",
       "         7.41546702e+02,  7.21943894e+02,  7.02787176e+02,\n",
       "         6.84069244e+02,  6.65782794e+02,  6.47920525e+02,\n",
       "         6.30475151e+02,  6.13439403e+02,  5.96806035e+02,\n",
       "         5.80567832e+02,  5.64717610e+02,  5.49248227e+02,\n",
       "         5.34152581e+02,  5.19423621e+02,  5.05054342e+02,\n",
       "         4.91037799e+02,  4.77367102e+02,  4.64035424e+02,\n",
       "         4.51036002e+02,  4.38362139e+02,  4.26007211e+02,\n",
       "         4.13964661e+02,  4.02228012e+02,  3.90790858e+02,\n",
       "         3.79646875e+02,  3.68789817e+02,  3.58213519e+02,\n",
       "         3.47911898e+02,  3.37878956e+02,  3.28108779e+02,\n",
       "         3.18595538e+02,  3.09333492e+02,  3.00316985e+02,\n",
       "         2.91540450e+02,  2.82998406e+02,  2.74685463e+02,\n",
       "         2.66596316e+02,  2.58725753e+02,  2.51068646e+02,\n",
       "         2.43619959e+02,  2.36374742e+02,  2.29328134e+02,\n",
       "         2.22475362e+02,  2.15811741e+02,  2.09332672e+02,\n",
       "         2.03033643e+02,  1.96910229e+02,  1.90958087e+02,\n",
       "         1.85172964e+02,  1.79550686e+02,  1.74087166e+02,\n",
       "         1.68778399e+02,  1.63620459e+02,  1.58609504e+02,\n",
       "         1.53741771e+02,  1.49013576e+02,  1.44421313e+02,\n",
       "         1.39961453e+02,  1.35630545e+02,  1.31425210e+02,\n",
       "         1.27342147e+02,  1.23378126e+02,  1.19529988e+02,\n",
       "         1.15794648e+02,  1.12169090e+02,  1.08650365e+02,\n",
       "         1.05235594e+02,  1.01921964e+02,  9.87067286e+01,\n",
       "         9.55872040e+01,  9.25607714e+01,  8.96248739e+01,\n",
       "         8.67770161e+01,  8.40147624e+01,  8.13357366e+01,\n",
       "         7.87376204e+01,  7.62181522e+01,  7.37751266e+01,\n",
       "         7.14063926e+01,  6.91098531e+01,  6.68834637e+01,\n",
       "         6.47252312e+01,  6.26332134e+01,  6.06055173e+01,\n",
       "         5.86402986e+01,  5.67357603e+01,  5.48901520e+01,\n",
       "         5.31017688e+01,  5.13689502e+01,  4.96900793e+01,\n",
       "         4.80635819e+01,  4.64879254e+01,  4.49616178e+01,\n",
       "         4.34832072e+01,  4.20512804e+01,  4.06644624e+01,\n",
       "         3.93214151e+01,  3.80208370e+01,  3.67614619e+01,\n",
       "         3.55420582e+01,  3.43614282e+01,  3.32184072e+01,\n",
       "         3.21118627e+01,  3.10406935e+01,  3.00038292e+01,\n",
       "         2.90002294e+01,  2.80288827e+01,  2.70888064e+01,\n",
       "         2.61790452e+01,  2.52986713e+01,  2.44467829e+01,\n",
       "         2.36225042e+01,  2.28249842e+01,  2.20533967e+01,\n",
       "         2.13069390e+01,  2.05848315e+01,  1.98863175e+01,\n",
       "         1.92106621e+01,  1.85571518e+01,  1.79250941e+01,\n",
       "         1.73138165e+01,  1.67226667e+01,  1.61510112e+01,\n",
       "         1.55982356e+01,  1.50637434e+01,  1.45469560e+01,\n",
       "         1.40473119e+01,  1.35642667e+01,  1.30972919e+01,\n",
       "         1.26458752e+01,  1.22095194e+01,  1.17877427e+01,\n",
       "         1.13800774e+01,  1.09860706e+01,  1.06052825e+01,\n",
       "         1.02372872e+01,  9.88167167e+00,  9.53803541e+00,\n",
       "         9.20599035e+00,  8.88516029e+00,  8.57518067e+00,\n",
       "         8.27569817e+00,  7.98637042e+00,  7.70686568e+00,\n",
       "         7.43686252e+00,  7.17604954e+00,  6.92412506e+00,\n",
       "         6.68079685e+00,  6.44578185e+00,  6.21880587e+00,\n",
       "         5.99960339e+00,  5.78791726e+00,  5.58349846e+00,\n",
       "         5.38610584e+00,  5.19550594e+00,  5.01147271e+00,\n",
       "         4.83378730e+00,  4.66223785e+00,  4.49661929e+00,\n",
       "         4.33673309e+00,  4.18238714e+00,  4.03339546e+00,\n",
       "         3.88957810e+00,  3.75076091e+00,  3.61677535e+00,\n",
       "         3.48745838e+00,  3.36265221e+00,  3.24220420e+00,\n",
       "         3.12596669e+00,  3.01379680e+00,  2.90555636e+00,\n",
       "         2.80111169e+00,  2.70033351e+00,  2.60309677e+00,\n",
       "         2.50928056e+00,  2.41876791e+00,  2.33144574e+00,\n",
       "         2.24720471e+00,  2.16593906e+00,  2.08754658e+00,\n",
       "         2.01192843e+00,  1.93898905e+00,  1.86863608e+00,\n",
       "         1.80078023e+00,  1.73533519e+00,  1.67221753e+00,\n",
       "         1.61134663e+00,  1.55264456e+00,  1.49603601e+00,\n",
       "         1.44144821e+00,  1.38881084e+00,  1.33805594e+00,\n",
       "         1.28911785e+00,  1.24193314e+00,  1.19644052e+00,\n",
       "         1.15258078e+00,  1.11029671e+00,  1.06953307e+00,\n",
       "         1.03023647e+00,  9.92355365e-01,  9.55839958e-01,\n",
       "         9.20642154e-01,  8.86715506e-01,  8.54015157e-01,\n",
       "         8.22497789e-01,  7.92121574e-01,  7.62846119e-01,\n",
       "         7.34632424e-01,  7.07442834e-01,  6.81240992e-01,\n",
       "         6.55991798e-01,  6.31661366e-01,  6.08216986e-01,\n",
       "         5.85627078e-01,  5.63861164e-01,  5.42889819e-01,\n",
       "         5.22684648e-01,  5.03218242e-01,  4.84464148e-01,\n",
       "         4.66396837e-01,  4.48991672e-01,  4.32224880e-01,\n",
       "         4.16073519e-01,  4.00515452e-01,  3.85529319e-01,\n",
       "         3.71094511e-01,  3.57191144e-01,  3.43800034e-01,\n",
       "         3.30902674e-01,  3.18481209e-01,  3.06518417e-01,\n",
       "         2.94997683e-01,  2.83902981e-01,  2.73218853e-01,\n",
       "         2.62930389e-01,  2.53023208e-01,  2.43483442e-01,\n",
       "         2.34297714e-01,  2.25453126e-01,  2.16937237e-01,\n",
       "         2.08738052e-01,  2.00844004e-01,  1.93243939e-01,\n",
       "         1.85927102e-01,  1.78883124e-01,  1.72102008e-01,\n",
       "         1.65574115e-01,  1.59290152e-01,  1.53241161e-01,\n",
       "         1.47418505e-01,  1.41813860e-01,  1.36419200e-01,\n",
       "         1.31226790e-01,  1.26229174e-01,  1.21419165e-01,\n",
       "         1.16789837e-01,  1.12334514e-01,  1.08046762e-01,\n",
       "         1.03920381e-01,  9.99493951e-02,  9.61280459e-02,\n",
       "         9.24507847e-02,  8.89122645e-02,  8.55073330e-02,\n",
       "         8.22310260e-02,  7.90785600e-02,  7.60453265e-02,\n",
       "         7.31268854e-02,  7.03189587e-02,  6.76174253e-02,\n",
       "         6.50183149e-02,  6.25178029e-02,  6.01122047e-02,\n",
       "         5.77979715e-02,  5.55716844e-02,  5.34300505e-02,\n",
       "         5.13698982e-02,  4.93881724e-02,  4.74819308e-02,\n",
       "         4.56483398e-02,  4.38846701e-02,  4.21882933e-02,\n",
       "         4.05566783e-02,  3.89873876e-02,  3.74780740e-02,\n",
       "         3.60264771e-02,  3.46304204e-02,  3.32878083e-02,\n",
       "         3.19966229e-02,  3.07549211e-02,  2.95608325e-02,\n",
       "         2.84125559e-02,  2.73083574e-02,  2.62465676e-02,\n",
       "         2.52255794e-02,  2.42438457e-02,  2.32998771e-02,\n",
       "         2.23922399e-02,  2.15195540e-02,  2.06804910e-02,\n",
       "         1.98737722e-02,  1.90981667e-02,  1.83524900e-02,\n",
       "         1.76356018e-02,  1.69464048e-02,  1.62838427e-02,\n",
       "         1.56468991e-02,  1.50345958e-02,  1.44459915e-02,\n",
       "         1.38801800e-02,  1.33362898e-02,  1.28134817e-02,\n",
       "         1.23109487e-02,  1.18279138e-02,  1.13636297e-02,\n",
       "         1.09173772e-02,  1.04884644e-02,  1.00762255e-02,\n",
       "         9.68001987e-03,  9.29923135e-03,  8.93326700e-03,\n",
       "         8.58155643e-03,  8.24355090e-03,  7.91872252e-03,\n",
       "         7.60656346e-03,  7.30658521e-03,  7.01831787e-03,\n",
       "         6.74130941e-03,  6.47512504e-03,  6.21934655e-03,\n",
       "         5.97357166e-03,  5.73741347e-03,  5.51049986e-03,\n",
       "         5.29247290e-03,  5.08298838e-03,  4.88171523e-03,\n",
       "         4.68833508e-03,  4.50254173e-03,  4.32404073e-03,\n",
       "         4.15254892e-03,  3.98779398e-03,  3.82951406e-03,\n",
       "         3.67745739e-03,  3.53138182e-03,  3.39105456e-03,\n",
       "         3.25625176e-03,  3.12675816e-03,  3.00236682e-03,\n",
       "         2.88287877e-03,  2.76810270e-03,  2.65785467e-03,\n",
       "         2.55195787e-03,  2.45024228e-03,  2.35254447e-03,\n",
       "         2.25870732e-03,  2.16857979e-03,  2.08201667e-03,\n",
       "         1.99887839e-03,  1.91903078e-03,  1.84234485e-03,\n",
       "         1.76869663e-03,  1.69796696e-03,  1.63004129e-03,\n",
       "         1.56480953e-03,  1.50216586e-03,  1.44200856e-03,\n",
       "         1.38423989e-03,  1.32876591e-03,  1.27549630e-03,\n",
       "         1.22434431e-03,  1.17522652e-03,  1.12806279e-03,\n",
       "         1.08277611e-03,  1.03929245e-03,  9.97540680e-04,\n",
       "         9.57452458e-04,  9.18962100e-04,  8.82006492e-04,\n",
       "         8.46524988e-04,  8.12459315e-04,  7.79753480e-04,\n",
       "         7.48353683e-04,  7.18208231e-04,  6.89267458e-04,\n",
       "         6.61483643e-04,  6.34810940e-04,  6.09205299e-04,\n",
       "         5.84624402e-04,  5.61027592e-04,  5.38375810e-04,\n",
       "         5.16631532e-04,  4.95758711e-04,  4.75722716e-04,\n",
       "         4.56490281e-04,  4.38029450e-04,  4.20309526e-04,\n",
       "         4.03301022e-04,  3.86975612e-04,  3.71306090e-04,\n",
       "         3.56266322e-04,  3.41831206e-04,  3.27976631e-04,\n",
       "         3.14679441e-04,  3.01917392e-04,  2.89669123e-04,\n",
       "         2.77914116e-04,  2.66632665e-04,  2.55805846e-04,\n",
       "         2.45415483e-04,  2.35444120e-04,  2.25874995e-04,\n",
       "         2.16692009e-04,  2.07879702e-04,  1.99423228e-04,\n",
       "         1.91308331e-04,  1.83521321e-04,  1.76049050e-04,\n",
       "         1.68878896e-04,  1.61998736e-04,  1.55396932e-04,\n",
       "         1.49062307e-04,  1.42984130e-04,  1.37152097e-04,\n",
       "         1.31556316e-04,  1.26187286e-04,  1.21035889e-04,\n",
       "         1.16093368e-04,  1.11351316e-04,  1.06801662e-04,\n",
       "         1.02436658e-04,  9.82488626e-05,  9.42311354e-05,\n",
       "         9.03766196e-05,  8.66787330e-05,  8.31311566e-05,\n",
       "         7.97278246e-05,  7.64629139e-05,  7.33308345e-05,\n",
       "         7.03262207e-05,  6.74439216e-05,  6.46789930e-05,\n",
       "         6.20266888e-05,  5.94824537e-05,  5.70419148e-05,\n",
       "         5.47008752e-05,  5.24553063e-05,  5.03013415e-05,\n",
       "         4.82352696e-05,  4.62535285e-05,  4.43526997e-05,\n",
       "         4.25295020e-05,  4.07807862e-05,  3.91035301e-05,\n",
       "         3.74948331e-05,  3.59519116e-05,  3.44720941e-05,\n",
       "         3.30528169e-05,  3.16916195e-05,  3.03861409e-05,\n",
       "         2.91341152e-05,  2.79333682e-05,  2.67818134e-05,\n",
       "         2.56774485e-05,  2.46183522e-05,  2.36026810e-05,\n",
       "         2.26286657e-05,  2.16946088e-05,  2.07988816e-05,\n",
       "         1.99399211e-05,  1.91162278e-05,  1.83263628e-05,\n",
       "         1.75689455e-05,  1.68426514e-05,  1.61462095e-05,\n",
       "         1.54784005e-05,  1.48380546e-05,  1.42240492e-05,\n",
       "         1.36353076e-05,  1.30707967e-05,  1.25295253e-05,\n",
       "         1.20105424e-05,  1.15129360e-05,  1.10358308e-05,\n",
       "         1.05783874e-05,  1.01398002e-05,  9.71929672e-06,\n",
       "         9.31613578e-06,  8.92960637e-06,  8.55902648e-06,\n",
       "         8.20374186e-06,  7.86312494e-06,  7.53657372e-06,\n",
       "         7.22351078e-06,  6.92338221e-06,  6.63565675e-06,\n",
       "         6.35982478e-06,  6.09539752e-06,  5.84190613e-06,\n",
       "         5.59890094e-06,  5.36595064e-06,  5.14264156e-06,\n",
       "         4.92857695e-06,  4.72337626e-06,  4.52667454e-06,\n",
       "         4.33812175e-06,  4.15738220e-06,  3.98413393e-06,\n",
       "         3.81806817e-06,  3.65888880e-06,  3.50631184e-06,\n",
       "         3.36006494e-06,  3.21988693e-06,  3.08552735e-06,\n",
       "         2.95674600e-06,  2.83331255e-06,  2.71500613e-06,\n",
       "         2.60161493e-06,  2.49293584e-06,  2.38877408e-06,\n",
       "         2.28894291e-06,  2.19326324e-06,  2.10156333e-06,\n",
       "         2.01367855e-06,  1.92945099e-06,  1.84872926e-06,\n",
       "         1.77136822e-06,  1.69722868e-06,  1.62617718e-06,\n",
       "         1.55808578e-06,  1.49283179e-06,  1.43029759e-06,\n",
       "         1.37037040e-06,  1.31294209e-06,  1.25790900e-06,\n",
       "         1.20517174e-06,  1.15463502e-06,  1.10620748e-06,\n",
       "         1.05980155e-06,  1.01533326e-06,  9.72722099e-07,\n",
       "         9.31890909e-07,  8.92765705e-07,  8.55275562e-07,\n",
       "         8.19352491e-07,  7.84931313e-07,  7.51949544e-07,\n",
       "         7.20347290e-07,  6.90067132e-07,  6.61054030e-07,\n",
       "         6.33255223e-07,  6.06620137e-07,  5.81100290e-07,\n",
       "         5.56649213e-07,  5.33222361e-07,  5.10777036e-07,\n",
       "         4.89272311e-07,  4.68668958e-07,  4.48929375e-07,\n",
       "         4.30017521e-07,  4.11898853e-07,  3.94540258e-07,\n",
       "         3.77910003e-07,  3.61977670e-07,  3.46714108e-07,\n",
       "         3.32091373e-07,  3.18082687e-07,  3.04662384e-07,\n",
       "         2.91805864e-07,  2.79489552e-07,  2.67690854e-07,\n",
       "         2.56388116e-07,  2.45560585e-07,  2.35188373e-07,\n",
       "         2.25252419e-07,  2.15734457e-07,  2.06616983e-07,\n",
       "         1.97883219e-07,  1.89517091e-07,  1.81503193e-07,\n",
       "         1.73826760e-07,  1.66473646e-07,  1.59430292e-07,\n",
       "         1.52683709e-07,  1.46221445e-07,  1.40031572e-07,\n",
       "         1.34102659e-07,  1.28423751e-07,  1.22984353e-07,\n",
       "         1.17774408e-07,  1.12784276e-07,  1.08004726e-07,\n",
       "         1.03426908e-07,  9.90423443e-08,  9.48429116e-08,\n",
       "         9.08208264e-08,  8.69686309e-08,  8.32791795e-08,\n",
       "         7.97456259e-08,  7.63614103e-08,  7.31202479e-08,\n",
       "         7.00161171e-08,  6.70432486e-08,  6.41961150e-08,\n",
       "         6.14694204e-08,  5.88580913e-08,  5.63572667e-08,\n",
       "         5.39622897e-08,  5.16686987e-08,  4.94722194e-08,\n",
       "         4.73687567e-08,  4.53543877e-08,  4.34253541e-08,\n",
       "         4.15780555e-08,  3.98090426e-08,  3.81150113e-08,\n",
       "         3.64927961e-08,  3.49393647e-08,  3.34518122e-08,\n",
       "         3.20273559e-08,  3.06633303e-08,  2.93571817e-08,\n",
       "         2.81064641e-08,  2.69088344e-08,  2.57620480e-08,\n",
       "         2.46639550e-08,  2.36124959e-08,  2.26056980e-08,\n",
       "         2.16416716e-08,  2.07186067e-08,  1.98347697e-08,\n",
       "         1.89884998e-08,  1.81782065e-08,  1.74023662e-08,\n",
       "         1.66595195e-08,  1.59482687e-08,  1.52672751e-08,\n",
       "         1.46152564e-08,  1.39909845e-08,  1.33932829e-08,\n",
       "         1.28210251e-08,  1.22731321e-08,  1.17485703e-08,\n",
       "         1.12463499e-08,  1.07655229e-08,  1.03051815e-08,\n",
       "         9.86445607e-09,  9.44251381e-09,  9.03855717e-09,\n",
       "         8.65182232e-09,  8.28157774e-09,  7.92712286e-09,\n",
       "         7.58778676e-09,  7.26292692e-09,  6.95192800e-09,\n",
       "         6.65420075e-09,  6.36918085e-09,  6.09632788e-09,\n",
       "         5.83512433e-09,  5.58507461e-09,  5.34570413e-09,\n",
       "         5.11655842e-09,  4.89720229e-09,  4.68721898e-09,\n",
       "         4.48620943e-09,  4.29379147e-09,  4.10959919e-09,\n",
       "         3.93328218e-09,  3.76450489e-09,  3.60294605e-09,\n",
       "         3.44829800e-09,  3.30026614e-09,  3.15856842e-09,\n",
       "         3.02293472e-09,  2.89310644e-09,  2.76883593e-09,\n",
       "         2.64988611e-09,  2.53602993e-09,  2.42705002e-09,\n",
       "         2.32273826e-09,  2.22289535e-09,  2.12733050e-09,\n",
       "         2.03586102e-09,  1.94831200e-09,  1.86451596e-09,\n",
       "         1.78431257e-09,  1.70754830e-09,  1.63407619e-09,\n",
       "         1.56375551e-09,  1.49645153e-09,  1.43203528e-09,\n",
       "         1.37038325e-09,  1.31137722e-09,  1.25490401e-09,\n",
       "         1.20085524e-09,  1.14912718e-09,  1.09962051e-09,\n",
       "         1.05224013e-09,  1.00689503e-09,  9.63498050e-10,\n",
       "         9.21965777e-10,  8.82218341e-10,  8.44179286e-10,\n",
       "         8.07775418e-10,  7.72936670e-10,  7.39595968e-10,\n",
       "         7.07689101e-10,  6.77154602e-10,  6.47933630e-10,\n",
       "         6.19969858e-10,  5.93209366e-10,  5.67600541e-10,\n",
       "         5.43093975e-10,  5.19642371e-10,  4.97200458e-10,\n",
       "         4.75724899e-10,  4.55174212e-10,  4.35508690e-10,\n",
       "         4.16690323e-10,  3.98682732e-10,  3.81451091e-10,\n",
       "         3.64962066e-10,  3.49183753e-10,  3.34085611e-10,\n",
       "         3.19638409e-10,  3.05814167e-10,  2.92586106e-10,\n",
       "         2.79928591e-10,  2.67817088e-10,  2.56228116e-10,\n",
       "         2.45139197e-10,  2.34528820e-10,  2.24376394e-10,\n",
       "         2.14662214e-10,  2.05367417e-10,  1.96473952e-10,\n",
       "         1.87964541e-10,  1.79822649e-10,  1.72032448e-10,\n",
       "         1.64578793e-10,  1.57447186e-10,  1.50623754e-10,\n",
       "         1.44095218e-10,  1.37848871e-10,  1.31872551e-10,\n",
       "         1.26154618e-10,  1.20683933e-10,  1.15449836e-10,\n",
       "         1.10442125e-10,  1.05651036e-10,  1.01067226e-10,\n",
       "         9.66817514e-11,  9.24860563e-11,  8.84719510e-11,\n",
       "         8.46315987e-11,  8.09574996e-11,  7.74424767e-11,\n",
       "         7.40796620e-11]])"
      ]
     },
     "execution_count": 268,
     "metadata": {},
     "output_type": "execute_result"
    }
   ],
   "source": [
    "K@res.states[4:]"
   ]
  },
  {
   "cell_type": "code",
   "execution_count": 269,
   "metadata": {},
   "outputs": [],
   "source": [
    "def modeling(res, ts):\n",
    "    fig, axs = plt.subplots(1, 2, figsize=(8, 4))\n",
    "    plt.subplots_adjust(left=0.1, bottom=0.1, right=0.9, top=0.9, wspace=0.4,hspace=0.4)\n",
    "    # colors = ['blue', 'r', 'green', 'orange']\n",
    "    for i in range(2):\n",
    "        ss = control.ss(A + L@C, L*0, A*0, L*0)\n",
    "        original_resp = control.forced_response(ss, X0=x0-xh0, T=ts)\n",
    "        # original_resp\n",
    "        # res\n",
    "        print(i//2, i%2)\n",
    "        axs[i % 2].plot(ts, (C@res.states[:4])[i], linewidth=3, label=f\"system\", color='blue')\n",
    "        # axs[i % 2].plot(ts, res.outputs[i+2], linewidth=3, linestyle='--',label=f\"observer\", color='red')\n",
    "        axs[i % 2].plot(ts, (C@res.states[4:])[i], linewidth=3, linestyle='-.', label=f\"observer\", color='red')\n",
    "        # axs[i // 2, i % 2].plot(ts, res.states[i] - res.states[i+4], linewidth=2, linestyle='--', label=f\"error\", color='orange')\n",
    "        axs[i % 2].set_title(f'y_{i}(t)', fontsize=12)\n",
    "        axs[i % 2].set_xlabel(f\"t, [c]\", fontsize=12)\n",
    "        axs[i % 2].grid(True)\n",
    "        axs[i % 2].legend()\n",
    "    \n",
    "    # axs[1].plot(time, (K @ output).reshape(-1), linewidth=3, label=f\"u(t)\", color='r')\n",
    "    # axs[1].set_title(f'u(t)', fontsize=12)\n",
    "    # axs[1].set_xlabel(f\"t, [c]\", fontsize=12)\n",
    "    # axs[1].grid(True)\n",
    "    # axs[1].legend()\n",
    "\n",
    "    # axs[1, 1].plot(t, np.array(U).reshape(-1), linewidth=4)\n",
    "    # axs[1, 1].set_title(f'u = u(t)', fontsize=12)\n",
    "    # axs[1, 1].set_xlabel(f\"t, [c]\", fontsize=12)\n",
    "    # axs[1, 1].grid(True)"
   ]
  },
  {
   "cell_type": "code",
   "execution_count": 270,
   "metadata": {},
   "outputs": [
    {
     "name": "stdout",
     "output_type": "stream",
     "text": [
      "0 0\n",
      "0 1\n"
     ]
    },
    {
     "data": {
      "image/png": "[encoded data removed]",
      "text/plain": [
       "<Figure size 800x400 with 2 Axes>"
      ]
     },
     "metadata": {},
     "output_type": "display_data"
    }
   ],
   "source": [
    "modeling(res, ts)"
   ]
  }
 ],
 "metadata": {
  "kernelspec": {
   "display_name": "control",
   "language": "python",
   "name": "python3"
  },
  "language_info": {
   "codemirror_mode": {
    "name": "ipython",
    "version": 3
   },
   "file_extension": ".py",
   "mimetype": "text/x-python",
   "name": "python",
   "nbconvert_exporter": "python",
   "pygments_lexer": "ipython3",
   "version": "3.10.13"
  }
 },
 "nbformat": 4,
 "nbformat_minor": 2
}
